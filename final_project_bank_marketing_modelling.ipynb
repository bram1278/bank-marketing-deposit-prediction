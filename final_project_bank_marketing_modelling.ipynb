{
 "cells": [
  {
   "cell_type": "code",
   "execution_count": 1,
   "metadata": {},
   "outputs": [],
   "source": [
    "import pandas as pd\n",
    "import numpy as np\n",
    "import matplotlib.pyplot as plt\n",
    "import seaborn as sns\n",
    "\n",
    "from sklearn.linear_model import LogisticRegression # untuk  pemodelan dengan logistic regression\n",
    "from sklearn.neighbors import KNeighborsClassifier # untuk pemodelan dengan K Neighbors Classifier \n",
    "from sklearn.ensemble import RandomForestClassifier # untuk pemodelan dengan Random Forest Classifier\n",
    "from sklearn.tree import DecisionTreeClassifier # untuk pemodelan dengan Decision Tree Classifier\n",
    "from sklearn.svm import SVC # untuk pemodelan dengan Support Vector Machine dengan tipe Classification\n",
    "from xgboost import XGBClassifier # untuk pemodelan dengan XGBoost (Extreme Gradient Boosting) untuk tipe Classification\n",
    "from sklearn.ensemble import  AdaBoostClassifier # untuk pemodelan dengan Adaptive Boosting untuk tipe Classification\n",
    "\n",
    "from sklearn.model_selection import train_test_split # untuk spliting dataset menjadi train dan test sebagai bagian pemodelan\n",
    "from sklearn.metrics import accuracy_score, balanced_accuracy_score, f1_score, recall_score, precision_score # untuk analisis akurasi, F1, recall, dan precision jika analisis dengan classification report mengalami masalah\n",
    "from sklearn.metrics import classification_report, confusion_matrix # mengimport package tentang classification report dan confusion matrix\n",
    "from sklearn.metrics import log_loss, roc_auc_score, roc_curve, auc # ROC : receiver operating characteristic; AUC = Area under curve; Hindari AUC bernilai 0.5 ke bawah; 0.7 sudah bagus\n",
    "import statsmodels.api as sm # mengimport package tentang statsmodels untuk analisa sebuah model\n",
    "from sklearn.preprocessing import OneHotEncoder, LabelEncoder, RobustScaler, MinMaxScaler, StandardScaler # mengimport package tentang scaling sebagai bagian dari feature engineering\n",
    "\n",
    "from sklearn.model_selection import GridSearchCV # mengimport package tentang GridSearchCV untuk hyper parameter tuning dan cross validation (CV)\n",
    "\n",
    "# untuk mempermudah pemodelan dengan data yang berkategori numerical dan categorical, pipeline dapat digunakan.\n",
    "from sklearn.pipeline import Pipeline\n",
    "from sklearn.impute import SimpleImputer\n",
    "from sklearn.compose import ColumnTransformer\n",
    "\n",
    "\n",
    "# Jika data bersifat imbalanced, beberapa package berikut dapat diimport untuk meng-handle imbalanced data\n",
    "from sklearn.utils import resample\n",
    "from imblearn.over_sampling import SMOTE\n",
    "\n",
    "# Untuk mengekspor dataset ke dashboard\n",
    "import pickle\n",
    "import joblib\n",
    "\n",
    "%matplotlib inline\n",
    "\n",
    "pd.options.display.max_columns = 999 # biar koloom tidak ada titik2, ditampilkan semua\n",
    "pd.set_option('display.float_format', lambda x: '%.3f' % x)\n",
    "pd.options.display.float_format='{:,}'.format"
   ]
  },
  {
   "cell_type": "code",
   "execution_count": 2,
   "metadata": {},
   "outputs": [
    {
     "data": {
      "text/html": [
       "<div>\n",
       "<style scoped>\n",
       "    .dataframe tbody tr th:only-of-type {\n",
       "        vertical-align: middle;\n",
       "    }\n",
       "\n",
       "    .dataframe tbody tr th {\n",
       "        vertical-align: top;\n",
       "    }\n",
       "\n",
       "    .dataframe thead th {\n",
       "        text-align: right;\n",
       "    }\n",
       "</style>\n",
       "<table border=\"1\" class=\"dataframe\">\n",
       "  <thead>\n",
       "    <tr style=\"text-align: right;\">\n",
       "      <th></th>\n",
       "      <th>duration</th>\n",
       "      <th>pdays</th>\n",
       "      <th>previous</th>\n",
       "      <th>poutcome</th>\n",
       "      <th>emp.var.rate</th>\n",
       "      <th>euribor3m</th>\n",
       "      <th>nr.employed</th>\n",
       "      <th>y</th>\n",
       "    </tr>\n",
       "  </thead>\n",
       "  <tbody>\n",
       "    <tr>\n",
       "      <th>0</th>\n",
       "      <td>261</td>\n",
       "      <td>999</td>\n",
       "      <td>0</td>\n",
       "      <td>nonexistent</td>\n",
       "      <td>1.1</td>\n",
       "      <td>4.857</td>\n",
       "      <td>5,191.0</td>\n",
       "      <td>no</td>\n",
       "    </tr>\n",
       "    <tr>\n",
       "      <th>1</th>\n",
       "      <td>149</td>\n",
       "      <td>999</td>\n",
       "      <td>0</td>\n",
       "      <td>nonexistent</td>\n",
       "      <td>1.1</td>\n",
       "      <td>4.857</td>\n",
       "      <td>5,191.0</td>\n",
       "      <td>no</td>\n",
       "    </tr>\n",
       "    <tr>\n",
       "      <th>2</th>\n",
       "      <td>226</td>\n",
       "      <td>999</td>\n",
       "      <td>0</td>\n",
       "      <td>nonexistent</td>\n",
       "      <td>1.1</td>\n",
       "      <td>4.857</td>\n",
       "      <td>5,191.0</td>\n",
       "      <td>no</td>\n",
       "    </tr>\n",
       "    <tr>\n",
       "      <th>3</th>\n",
       "      <td>151</td>\n",
       "      <td>999</td>\n",
       "      <td>0</td>\n",
       "      <td>nonexistent</td>\n",
       "      <td>1.1</td>\n",
       "      <td>4.857</td>\n",
       "      <td>5,191.0</td>\n",
       "      <td>no</td>\n",
       "    </tr>\n",
       "    <tr>\n",
       "      <th>4</th>\n",
       "      <td>307</td>\n",
       "      <td>999</td>\n",
       "      <td>0</td>\n",
       "      <td>nonexistent</td>\n",
       "      <td>1.1</td>\n",
       "      <td>4.857</td>\n",
       "      <td>5,191.0</td>\n",
       "      <td>no</td>\n",
       "    </tr>\n",
       "  </tbody>\n",
       "</table>\n",
       "</div>"
      ],
      "text/plain": [
       "   duration  pdays  previous     poutcome  emp.var.rate  euribor3m  \\\n",
       "0       261    999         0  nonexistent           1.1      4.857   \n",
       "1       149    999         0  nonexistent           1.1      4.857   \n",
       "2       226    999         0  nonexistent           1.1      4.857   \n",
       "3       151    999         0  nonexistent           1.1      4.857   \n",
       "4       307    999         0  nonexistent           1.1      4.857   \n",
       "\n",
       "   nr.employed   y  \n",
       "0      5,191.0  no  \n",
       "1      5,191.0  no  \n",
       "2      5,191.0  no  \n",
       "3      5,191.0  no  \n",
       "4      5,191.0  no  "
      ]
     },
     "execution_count": 2,
     "metadata": {},
     "output_type": "execute_result"
    }
   ],
   "source": [
    "df = pd.read_csv(\"C:/Users/ASUS/visual_studio_code/final_project/dataset/bank-additional-full_clean.csv\", index_col =0)\n",
    "df.head()"
   ]
  },
  {
   "cell_type": "code",
   "execution_count": 3,
   "metadata": {},
   "outputs": [
    {
     "name": "stdout",
     "output_type": "stream",
     "text": [
      "<class 'pandas.core.frame.DataFrame'>\n",
      "Int64Index: 41188 entries, 0 to 41187\n",
      "Data columns (total 8 columns):\n",
      " #   Column        Non-Null Count  Dtype  \n",
      "---  ------        --------------  -----  \n",
      " 0   duration      41188 non-null  int64  \n",
      " 1   pdays         41188 non-null  int64  \n",
      " 2   previous      41188 non-null  int64  \n",
      " 3   poutcome      41188 non-null  object \n",
      " 4   emp.var.rate  41188 non-null  float64\n",
      " 5   euribor3m     41188 non-null  float64\n",
      " 6   nr.employed   41188 non-null  float64\n",
      " 7   y             41188 non-null  object \n",
      "dtypes: float64(3), int64(3), object(2)\n",
      "memory usage: 2.8+ MB\n"
     ]
    }
   ],
   "source": [
    "df.info()"
   ]
  },
  {
   "cell_type": "code",
   "execution_count": 4,
   "metadata": {},
   "outputs": [
    {
     "data": {
      "text/html": [
       "<div>\n",
       "<style scoped>\n",
       "    .dataframe tbody tr th:only-of-type {\n",
       "        vertical-align: middle;\n",
       "    }\n",
       "\n",
       "    .dataframe tbody tr th {\n",
       "        vertical-align: top;\n",
       "    }\n",
       "\n",
       "    .dataframe thead th {\n",
       "        text-align: right;\n",
       "    }\n",
       "</style>\n",
       "<table border=\"1\" class=\"dataframe\">\n",
       "  <thead>\n",
       "    <tr style=\"text-align: right;\">\n",
       "      <th></th>\n",
       "      <th>count</th>\n",
       "      <th>mean</th>\n",
       "      <th>std</th>\n",
       "      <th>min</th>\n",
       "      <th>25%</th>\n",
       "      <th>50%</th>\n",
       "      <th>75%</th>\n",
       "      <th>max</th>\n",
       "    </tr>\n",
       "  </thead>\n",
       "  <tbody>\n",
       "    <tr>\n",
       "      <th>duration</th>\n",
       "      <td>41,188.0</td>\n",
       "      <td>258.2850101971448</td>\n",
       "      <td>259.2792488364648</td>\n",
       "      <td>0.0</td>\n",
       "      <td>102.0</td>\n",
       "      <td>180.0</td>\n",
       "      <td>319.0</td>\n",
       "      <td>4,918.0</td>\n",
       "    </tr>\n",
       "    <tr>\n",
       "      <th>pdays</th>\n",
       "      <td>41,188.0</td>\n",
       "      <td>962.4754540157328</td>\n",
       "      <td>186.9109073447418</td>\n",
       "      <td>0.0</td>\n",
       "      <td>999.0</td>\n",
       "      <td>999.0</td>\n",
       "      <td>999.0</td>\n",
       "      <td>999.0</td>\n",
       "    </tr>\n",
       "    <tr>\n",
       "      <th>previous</th>\n",
       "      <td>41,188.0</td>\n",
       "      <td>0.17296299893172767</td>\n",
       "      <td>0.4949010798392897</td>\n",
       "      <td>0.0</td>\n",
       "      <td>0.0</td>\n",
       "      <td>0.0</td>\n",
       "      <td>0.0</td>\n",
       "      <td>7.0</td>\n",
       "    </tr>\n",
       "    <tr>\n",
       "      <th>emp.var.rate</th>\n",
       "      <td>41,188.0</td>\n",
       "      <td>0.08188550063125165</td>\n",
       "      <td>1.5709597405170255</td>\n",
       "      <td>-3.4</td>\n",
       "      <td>-1.8</td>\n",
       "      <td>1.1</td>\n",
       "      <td>1.4</td>\n",
       "      <td>1.4</td>\n",
       "    </tr>\n",
       "    <tr>\n",
       "      <th>euribor3m</th>\n",
       "      <td>41,188.0</td>\n",
       "      <td>3.621290812858114</td>\n",
       "      <td>1.734447404851267</td>\n",
       "      <td>0.634</td>\n",
       "      <td>1.344</td>\n",
       "      <td>4.857</td>\n",
       "      <td>4.961</td>\n",
       "      <td>5.045</td>\n",
       "    </tr>\n",
       "    <tr>\n",
       "      <th>nr.employed</th>\n",
       "      <td>41,188.0</td>\n",
       "      <td>5,167.035910944936</td>\n",
       "      <td>72.25152766826108</td>\n",
       "      <td>4,963.6</td>\n",
       "      <td>5,099.1</td>\n",
       "      <td>5,191.0</td>\n",
       "      <td>5,228.1</td>\n",
       "      <td>5,228.1</td>\n",
       "    </tr>\n",
       "  </tbody>\n",
       "</table>\n",
       "</div>"
      ],
      "text/plain": [
       "                count                mean                std     min     25%  \\\n",
       "duration     41,188.0   258.2850101971448  259.2792488364648     0.0   102.0   \n",
       "pdays        41,188.0   962.4754540157328  186.9109073447418     0.0   999.0   \n",
       "previous     41,188.0 0.17296299893172767 0.4949010798392897     0.0     0.0   \n",
       "emp.var.rate 41,188.0 0.08188550063125165 1.5709597405170255    -3.4    -1.8   \n",
       "euribor3m    41,188.0   3.621290812858114  1.734447404851267   0.634   1.344   \n",
       "nr.employed  41,188.0  5,167.035910944936  72.25152766826108 4,963.6 5,099.1   \n",
       "\n",
       "                 50%     75%     max  \n",
       "duration       180.0   319.0 4,918.0  \n",
       "pdays          999.0   999.0   999.0  \n",
       "previous         0.0     0.0     7.0  \n",
       "emp.var.rate     1.1     1.4     1.4  \n",
       "euribor3m      4.857   4.961   5.045  \n",
       "nr.employed  5,191.0 5,228.1 5,228.1  "
      ]
     },
     "execution_count": 4,
     "metadata": {},
     "output_type": "execute_result"
    }
   ],
   "source": [
    "df.describe().T"
   ]
  },
  {
   "cell_type": "code",
   "execution_count": 5,
   "metadata": {},
   "outputs": [
    {
     "data": {
      "text/html": [
       "<div>\n",
       "<style scoped>\n",
       "    .dataframe tbody tr th:only-of-type {\n",
       "        vertical-align: middle;\n",
       "    }\n",
       "\n",
       "    .dataframe tbody tr th {\n",
       "        vertical-align: top;\n",
       "    }\n",
       "\n",
       "    .dataframe thead th {\n",
       "        text-align: right;\n",
       "    }\n",
       "</style>\n",
       "<table border=\"1\" class=\"dataframe\">\n",
       "  <thead>\n",
       "    <tr style=\"text-align: right;\">\n",
       "      <th></th>\n",
       "      <th>count</th>\n",
       "      <th>unique</th>\n",
       "      <th>top</th>\n",
       "      <th>freq</th>\n",
       "    </tr>\n",
       "  </thead>\n",
       "  <tbody>\n",
       "    <tr>\n",
       "      <th>poutcome</th>\n",
       "      <td>41188</td>\n",
       "      <td>3</td>\n",
       "      <td>nonexistent</td>\n",
       "      <td>35563</td>\n",
       "    </tr>\n",
       "    <tr>\n",
       "      <th>y</th>\n",
       "      <td>41188</td>\n",
       "      <td>2</td>\n",
       "      <td>no</td>\n",
       "      <td>36548</td>\n",
       "    </tr>\n",
       "  </tbody>\n",
       "</table>\n",
       "</div>"
      ],
      "text/plain": [
       "          count unique          top   freq\n",
       "poutcome  41188      3  nonexistent  35563\n",
       "y         41188      2           no  36548"
      ]
     },
     "execution_count": 5,
     "metadata": {},
     "output_type": "execute_result"
    }
   ],
   "source": [
    "df.describe(include='O').T # descripe data object"
   ]
  },
  {
   "cell_type": "code",
   "execution_count": 6,
   "metadata": {},
   "outputs": [
    {
     "data": {
      "text/plain": [
       "no     36548\n",
       "yes     4640\n",
       "Name: y, dtype: int64"
      ]
     },
     "execution_count": 6,
     "metadata": {},
     "output_type": "execute_result"
    }
   ],
   "source": [
    "df.y.value_counts()"
   ]
  },
  {
   "cell_type": "markdown",
   "metadata": {},
   "source": [
    "### Data termasuk Imbalanced Data karena y bernilai no adalah 36548 (88.73 % dari keseluruhan y) sedangkan y bernilai yes adalah 4640 (11.27 % dari keseluruhan y). Namun, Imbalanced Data belum bertipe ekstrem, misal 99 % : 1 %. Maka, pemodelan data akan dibuat dengan kondisi jika Imbalanced Data di-handle atau tidak di-handle."
   ]
  },
  {
   "cell_type": "markdown",
   "metadata": {},
   "source": [
    "### Untuk menghitung nilai ROC dan AUC, dibuat df_dummy karena query-nya hanya bisa mendeteksi nilai angka"
   ]
  },
  {
   "cell_type": "code",
   "execution_count": 7,
   "metadata": {},
   "outputs": [
    {
     "data": {
      "text/html": [
       "<div>\n",
       "<style scoped>\n",
       "    .dataframe tbody tr th:only-of-type {\n",
       "        vertical-align: middle;\n",
       "    }\n",
       "\n",
       "    .dataframe tbody tr th {\n",
       "        vertical-align: top;\n",
       "    }\n",
       "\n",
       "    .dataframe thead th {\n",
       "        text-align: right;\n",
       "    }\n",
       "</style>\n",
       "<table border=\"1\" class=\"dataframe\">\n",
       "  <thead>\n",
       "    <tr style=\"text-align: right;\">\n",
       "      <th></th>\n",
       "      <th>duration</th>\n",
       "      <th>pdays</th>\n",
       "      <th>previous</th>\n",
       "      <th>poutcome</th>\n",
       "      <th>emp.var.rate</th>\n",
       "      <th>euribor3m</th>\n",
       "      <th>nr.employed</th>\n",
       "      <th>y</th>\n",
       "    </tr>\n",
       "  </thead>\n",
       "  <tbody>\n",
       "    <tr>\n",
       "      <th>0</th>\n",
       "      <td>261</td>\n",
       "      <td>999</td>\n",
       "      <td>0</td>\n",
       "      <td>nonexistent</td>\n",
       "      <td>1.1</td>\n",
       "      <td>4.857</td>\n",
       "      <td>5,191.0</td>\n",
       "      <td>no</td>\n",
       "    </tr>\n",
       "    <tr>\n",
       "      <th>1</th>\n",
       "      <td>149</td>\n",
       "      <td>999</td>\n",
       "      <td>0</td>\n",
       "      <td>nonexistent</td>\n",
       "      <td>1.1</td>\n",
       "      <td>4.857</td>\n",
       "      <td>5,191.0</td>\n",
       "      <td>no</td>\n",
       "    </tr>\n",
       "    <tr>\n",
       "      <th>2</th>\n",
       "      <td>226</td>\n",
       "      <td>999</td>\n",
       "      <td>0</td>\n",
       "      <td>nonexistent</td>\n",
       "      <td>1.1</td>\n",
       "      <td>4.857</td>\n",
       "      <td>5,191.0</td>\n",
       "      <td>no</td>\n",
       "    </tr>\n",
       "    <tr>\n",
       "      <th>3</th>\n",
       "      <td>151</td>\n",
       "      <td>999</td>\n",
       "      <td>0</td>\n",
       "      <td>nonexistent</td>\n",
       "      <td>1.1</td>\n",
       "      <td>4.857</td>\n",
       "      <td>5,191.0</td>\n",
       "      <td>no</td>\n",
       "    </tr>\n",
       "    <tr>\n",
       "      <th>4</th>\n",
       "      <td>307</td>\n",
       "      <td>999</td>\n",
       "      <td>0</td>\n",
       "      <td>nonexistent</td>\n",
       "      <td>1.1</td>\n",
       "      <td>4.857</td>\n",
       "      <td>5,191.0</td>\n",
       "      <td>no</td>\n",
       "    </tr>\n",
       "  </tbody>\n",
       "</table>\n",
       "</div>"
      ],
      "text/plain": [
       "   duration  pdays  previous     poutcome  emp.var.rate  euribor3m  \\\n",
       "0       261    999         0  nonexistent           1.1      4.857   \n",
       "1       149    999         0  nonexistent           1.1      4.857   \n",
       "2       226    999         0  nonexistent           1.1      4.857   \n",
       "3       151    999         0  nonexistent           1.1      4.857   \n",
       "4       307    999         0  nonexistent           1.1      4.857   \n",
       "\n",
       "   nr.employed   y  \n",
       "0      5,191.0  no  \n",
       "1      5,191.0  no  \n",
       "2      5,191.0  no  \n",
       "3      5,191.0  no  \n",
       "4      5,191.0  no  "
      ]
     },
     "execution_count": 7,
     "metadata": {},
     "output_type": "execute_result"
    }
   ],
   "source": [
    "df_dummy = df.copy()\n",
    "df_dummy.head()"
   ]
  },
  {
   "cell_type": "code",
   "execution_count": 8,
   "metadata": {},
   "outputs": [],
   "source": [
    "df_dummy = pd.get_dummies(data=df_dummy, columns=['poutcome'])"
   ]
  },
  {
   "cell_type": "code",
   "execution_count": 9,
   "metadata": {},
   "outputs": [],
   "source": [
    "df_dummy['y'] = df_dummy['y'].map({'no' : 0, 'yes' : 1})"
   ]
  },
  {
   "cell_type": "code",
   "execution_count": 10,
   "metadata": {},
   "outputs": [
    {
     "data": {
      "text/html": [
       "<div>\n",
       "<style scoped>\n",
       "    .dataframe tbody tr th:only-of-type {\n",
       "        vertical-align: middle;\n",
       "    }\n",
       "\n",
       "    .dataframe tbody tr th {\n",
       "        vertical-align: top;\n",
       "    }\n",
       "\n",
       "    .dataframe thead th {\n",
       "        text-align: right;\n",
       "    }\n",
       "</style>\n",
       "<table border=\"1\" class=\"dataframe\">\n",
       "  <thead>\n",
       "    <tr style=\"text-align: right;\">\n",
       "      <th></th>\n",
       "      <th>duration</th>\n",
       "      <th>pdays</th>\n",
       "      <th>previous</th>\n",
       "      <th>emp.var.rate</th>\n",
       "      <th>euribor3m</th>\n",
       "      <th>nr.employed</th>\n",
       "      <th>y</th>\n",
       "      <th>poutcome_failure</th>\n",
       "      <th>poutcome_nonexistent</th>\n",
       "      <th>poutcome_success</th>\n",
       "    </tr>\n",
       "  </thead>\n",
       "  <tbody>\n",
       "    <tr>\n",
       "      <th>0</th>\n",
       "      <td>261</td>\n",
       "      <td>999</td>\n",
       "      <td>0</td>\n",
       "      <td>1.1</td>\n",
       "      <td>4.857</td>\n",
       "      <td>5,191.0</td>\n",
       "      <td>0</td>\n",
       "      <td>0</td>\n",
       "      <td>1</td>\n",
       "      <td>0</td>\n",
       "    </tr>\n",
       "    <tr>\n",
       "      <th>1</th>\n",
       "      <td>149</td>\n",
       "      <td>999</td>\n",
       "      <td>0</td>\n",
       "      <td>1.1</td>\n",
       "      <td>4.857</td>\n",
       "      <td>5,191.0</td>\n",
       "      <td>0</td>\n",
       "      <td>0</td>\n",
       "      <td>1</td>\n",
       "      <td>0</td>\n",
       "    </tr>\n",
       "    <tr>\n",
       "      <th>2</th>\n",
       "      <td>226</td>\n",
       "      <td>999</td>\n",
       "      <td>0</td>\n",
       "      <td>1.1</td>\n",
       "      <td>4.857</td>\n",
       "      <td>5,191.0</td>\n",
       "      <td>0</td>\n",
       "      <td>0</td>\n",
       "      <td>1</td>\n",
       "      <td>0</td>\n",
       "    </tr>\n",
       "    <tr>\n",
       "      <th>3</th>\n",
       "      <td>151</td>\n",
       "      <td>999</td>\n",
       "      <td>0</td>\n",
       "      <td>1.1</td>\n",
       "      <td>4.857</td>\n",
       "      <td>5,191.0</td>\n",
       "      <td>0</td>\n",
       "      <td>0</td>\n",
       "      <td>1</td>\n",
       "      <td>0</td>\n",
       "    </tr>\n",
       "    <tr>\n",
       "      <th>4</th>\n",
       "      <td>307</td>\n",
       "      <td>999</td>\n",
       "      <td>0</td>\n",
       "      <td>1.1</td>\n",
       "      <td>4.857</td>\n",
       "      <td>5,191.0</td>\n",
       "      <td>0</td>\n",
       "      <td>0</td>\n",
       "      <td>1</td>\n",
       "      <td>0</td>\n",
       "    </tr>\n",
       "  </tbody>\n",
       "</table>\n",
       "</div>"
      ],
      "text/plain": [
       "   duration  pdays  previous  emp.var.rate  euribor3m  nr.employed  y  \\\n",
       "0       261    999         0           1.1      4.857      5,191.0  0   \n",
       "1       149    999         0           1.1      4.857      5,191.0  0   \n",
       "2       226    999         0           1.1      4.857      5,191.0  0   \n",
       "3       151    999         0           1.1      4.857      5,191.0  0   \n",
       "4       307    999         0           1.1      4.857      5,191.0  0   \n",
       "\n",
       "   poutcome_failure  poutcome_nonexistent  poutcome_success  \n",
       "0                 0                     1                 0  \n",
       "1                 0                     1                 0  \n",
       "2                 0                     1                 0  \n",
       "3                 0                     1                 0  \n",
       "4                 0                     1                 0  "
      ]
     },
     "execution_count": 10,
     "metadata": {},
     "output_type": "execute_result"
    }
   ],
   "source": [
    "df_dummy.head()"
   ]
  },
  {
   "cell_type": "markdown",
   "metadata": {},
   "source": [
    "# Data Splitting"
   ]
  },
  {
   "cell_type": "code",
   "execution_count": 11,
   "metadata": {},
   "outputs": [],
   "source": [
    "X = df.drop(columns='y')\n",
    "y = df.y\n",
    "\n",
    "X_train, X_test, y_train, y_test = train_test_split(X, y, stratify = y, test_size = .2, random_state=42)"
   ]
  },
  {
   "cell_type": "code",
   "execution_count": 12,
   "metadata": {},
   "outputs": [
    {
     "data": {
      "text/plain": [
       "Index(['duration', 'pdays', 'previous', 'poutcome', 'emp.var.rate',\n",
       "       'euribor3m', 'nr.employed'],\n",
       "      dtype='object')"
      ]
     },
     "execution_count": 12,
     "metadata": {},
     "output_type": "execute_result"
    }
   ],
   "source": [
    "X_train.columns"
   ]
  },
  {
   "cell_type": "code",
   "execution_count": 13,
   "metadata": {},
   "outputs": [],
   "source": [
    "X_dummy = df_dummy.drop(columns='y')\n",
    "y_dummy = df_dummy.y\n",
    "\n",
    "X_train_dummy, X_test_dummy, y_train_dummy, y_test_dummy = train_test_split(X_dummy, y_dummy, stratify = y_dummy, test_size = .2, random_state=42)"
   ]
  },
  {
   "cell_type": "code",
   "execution_count": 14,
   "metadata": {},
   "outputs": [
    {
     "data": {
      "text/plain": [
       "Index(['duration', 'pdays', 'previous', 'emp.var.rate', 'euribor3m',\n",
       "       'nr.employed', 'poutcome_failure', 'poutcome_nonexistent',\n",
       "       'poutcome_success'],\n",
       "      dtype='object')"
      ]
     },
     "execution_count": 14,
     "metadata": {},
     "output_type": "execute_result"
    }
   ],
   "source": [
    "X_train_dummy.columns"
   ]
  },
  {
   "cell_type": "markdown",
   "metadata": {},
   "source": [
    "# Modelling"
   ]
  },
  {
   "cell_type": "markdown",
   "metadata": {},
   "source": [
    "## K Neighbors Classifier"
   ]
  },
  {
   "cell_type": "code",
   "execution_count": 15,
   "metadata": {},
   "outputs": [],
   "source": [
    "X_dummy = df_dummy.drop(columns='y')\n",
    "y_dummy = df_dummy.y\n",
    "\n",
    "X_train_dummy, X_test_dummy, y_train_dummy, y_test_dummy = train_test_split(X_dummy, y_dummy, stratify = y_dummy, test_size = .2, random_state=42)"
   ]
  },
  {
   "cell_type": "code",
   "execution_count": 15,
   "metadata": {},
   "outputs": [
    {
     "name": "stdout",
     "output_type": "stream",
     "text": [
      "Fitting 3 folds for each of 100 candidates, totalling 300 fits\n"
     ]
    },
    {
     "name": "stderr",
     "output_type": "stream",
     "text": [
      "[Parallel(n_jobs=-1)]: Using backend LokyBackend with 8 concurrent workers.\n",
      "[Parallel(n_jobs=-1)]: Done  34 tasks      | elapsed:   16.7s\n",
      "[Parallel(n_jobs=-1)]: Done 184 tasks      | elapsed:  1.3min\n",
      "[Parallel(n_jobs=-1)]: Done 300 out of 300 | elapsed:  2.1min finished\n"
     ]
    },
    {
     "data": {
      "text/plain": [
       "GridSearchCV(cv=3, estimator=KNeighborsClassifier(), n_jobs=-1,\n",
       "             param_grid={'n_neighbors': range(1, 50, 2), 'p': [2, 1],\n",
       "                         'weights': ['uniform', 'distance']},\n",
       "             verbose=1)"
      ]
     },
     "execution_count": 15,
     "metadata": {},
     "output_type": "execute_result"
    }
   ],
   "source": [
    "scaler_robust = RobustScaler()\n",
    "\n",
    "X_train_robustscaled = scaler_robust.fit_transform(X_train_dummy)\n",
    "\n",
    "X_test_robustscaled = scaler_robust.fit_transform(X_test_dummy)\n",
    "\n",
    "model_dummyKNN = KNeighborsClassifier()\n",
    "\n",
    "params_dummyKNN = {\n",
    "    \"n_neighbors\" : range(1,50,2),\n",
    "    \"weights\" : [\"uniform\", \"distance\"],\n",
    "    \"p\" : [2, 1]\n",
    "}\n",
    "\n",
    "model_dummyKNN = GridSearchCV(model_dummyKNN, params_dummyKNN, cv=3, n_jobs=-1, verbose=1)\n",
    "\n",
    "model_dummyKNN.fit(X_train_robustscaled, y_train_dummy)"
   ]
  },
  {
   "cell_type": "code",
   "execution_count": 17,
   "metadata": {},
   "outputs": [
    {
     "name": "stdout",
     "output_type": "stream",
     "text": [
      "              precision    recall  f1-score   support\n",
      "\n",
      "           0       0.94      0.97      0.95      7310\n",
      "           1       0.67      0.51      0.58       928\n",
      "\n",
      "    accuracy                           0.92      8238\n",
      "   macro avg       0.81      0.74      0.77      8238\n",
      "weighted avg       0.91      0.92      0.91      8238\n",
      "\n"
     ]
    }
   ],
   "source": [
    "y_pred_dummyKNN_robust = model_dummyKNN.predict(X_test_robustscaled)\n",
    "\n",
    "print(classification_report(y_test_dummy, y_pred_dummyKNN_robust))"
   ]
  },
  {
   "cell_type": "code",
   "execution_count": 18,
   "metadata": {},
   "outputs": [
    {
     "data": {
      "text/plain": [
       "<matplotlib.axes._subplots.AxesSubplot at 0x29392d4e648>"
      ]
     },
     "execution_count": 18,
     "metadata": {},
     "output_type": "execute_result"
    },
    {
     "data": {
      "image/png": "[encoded data removed]",
      "text/plain": [
       "<Figure size 432x288 with 2 Axes>"
      ]
     },
     "metadata": {
      "needs_background": "light"
     },
     "output_type": "display_data"
    }
   ],
   "source": [
    "cm_KNNrobust = confusion_matrix(y_test_dummy, y_pred_dummyKNN_robust, labels=[1, 0]) \n",
    "df_cm_KNNrobust = pd.DataFrame(cm_KNNrobust, \n",
    "                 columns=['Pred 1', 'Pred 0'],\n",
    "                 index = ['Act 1', 'Act 0'])\n",
    "sns.heatmap(df_cm_KNNrobust, annot=True)"
   ]
  },
  {
   "cell_type": "code",
   "execution_count": 19,
   "metadata": {},
   "outputs": [
    {
     "data": {
      "text/plain": [
       "0.7371672897306476"
      ]
     },
     "execution_count": 19,
     "metadata": {},
     "output_type": "execute_result"
    }
   ],
   "source": [
    "roc_auc_score(y_test_dummy, y_pred_dummyKNN_robust)"
   ]
  },
  {
   "cell_type": "code",
   "execution_count": 20,
   "metadata": {},
   "outputs": [
    {
     "data": {
      "image/png": "[encoded data removed]",
      "text/plain": [
       "<Figure size 720x576 with 1 Axes>"
      ]
     },
     "metadata": {
      "needs_background": "light"
     },
     "output_type": "display_data"
    }
   ],
   "source": [
    "probs = model_dummyKNN.predict_proba(X_test_robustscaled)\n",
    "\n",
    "preds = probs[:, 1]\n",
    "\n",
    "fpr, tpr, threshold = roc_curve(y_test_dummy, preds)\n",
    "sc = round(auc(fpr,tpr),2)\n",
    "\n",
    "plt.figure(figsize=(10,8))\n",
    "plt.title(\"Receiver Operator Characteristic\")\n",
    "plt.plot(fpr, tpr, 'b', label=f'AUC = {sc} ')\n",
    "\n",
    "plt.plot([0,1], [0,1], 'r-.')\n",
    "\n",
    "plt.ylim([0,1])\n",
    "plt.xlim([0,1])\n",
    "plt.legend(loc=2)\n",
    "plt.ylabel(\"True Positive Rates\")\n",
    "plt.xlabel(\"False Positive Rates\")\n",
    "plt.show()"
   ]
  },
  {
   "cell_type": "code",
   "execution_count": 21,
   "metadata": {},
   "outputs": [
    {
     "data": {
      "text/plain": [
       "{'n_neighbors': 49, 'p': 1, 'weights': 'uniform'}"
      ]
     },
     "execution_count": 21,
     "metadata": {},
     "output_type": "execute_result"
    }
   ],
   "source": [
    "model_dummyKNN.best_params_"
   ]
  },
  {
   "cell_type": "code",
   "execution_count": 22,
   "metadata": {},
   "outputs": [
    {
     "data": {
      "text/plain": [
       "0.9104703450743372"
      ]
     },
     "execution_count": 22,
     "metadata": {},
     "output_type": "execute_result"
    }
   ],
   "source": [
    "model_dummyKNN.best_score_"
   ]
  },
  {
   "cell_type": "code",
   "execution_count": 24,
   "metadata": {},
   "outputs": [
    {
     "name": "stdout",
     "output_type": "stream",
     "text": [
      "Fitting 3 folds for each of 100 candidates, totalling 300 fits\n"
     ]
    },
    {
     "name": "stderr",
     "output_type": "stream",
     "text": [
      "[Parallel(n_jobs=-1)]: Using backend LokyBackend with 8 concurrent workers.\n",
      "[Parallel(n_jobs=-1)]: Done  34 tasks      | elapsed:   14.8s\n",
      "[Parallel(n_jobs=-1)]: Done 184 tasks      | elapsed:  1.1min\n",
      "[Parallel(n_jobs=-1)]: Done 300 out of 300 | elapsed:  1.8min finished\n"
     ]
    },
    {
     "data": {
      "text/plain": [
       "GridSearchCV(cv=3, estimator=KNeighborsClassifier(), n_jobs=-1,\n",
       "             param_grid={'n_neighbors': range(1, 50, 2), 'p': [2, 1],\n",
       "                         'weights': ['uniform', 'distance']},\n",
       "             verbose=1)"
      ]
     },
     "execution_count": 24,
     "metadata": {},
     "output_type": "execute_result"
    }
   ],
   "source": [
    "scaler_minmax = MinMaxScaler()\n",
    "\n",
    "X_train_minmaxscaled = scaler_minmax.fit_transform(X_train_dummy)\n",
    "\n",
    "X_test_minmaxscaled = scaler_minmax.fit_transform(X_test_dummy)\n",
    "\n",
    "model_dummyKNN2 = KNeighborsClassifier()\n",
    "\n",
    "params_dummyKNN = {\n",
    "    \"n_neighbors\" : range(1,50,2),\n",
    "    \"weights\" : [\"uniform\", \"distance\"],\n",
    "    \"p\" : [2, 1]\n",
    "}\n",
    "\n",
    "model_dummyKNN2 = GridSearchCV(model_dummyKNN2, params_dummyKNN, cv=3, n_jobs=-1, verbose=1)\n",
    "\n",
    "model_dummyKNN2.fit(X_train_minmaxscaled, y_train_dummy)"
   ]
  },
  {
   "cell_type": "code",
   "execution_count": 25,
   "metadata": {},
   "outputs": [
    {
     "name": "stdout",
     "output_type": "stream",
     "text": [
      "              precision    recall  f1-score   support\n",
      "\n",
      "           0       0.96      0.94      0.95      7310\n",
      "           1       0.58      0.67      0.62       928\n",
      "\n",
      "    accuracy                           0.91      8238\n",
      "   macro avg       0.77      0.80      0.78      8238\n",
      "weighted avg       0.91      0.91      0.91      8238\n",
      "\n"
     ]
    }
   ],
   "source": [
    "y_pred_dummyKNN_minmax = model_dummyKNN2.predict(X_test_minmaxscaled)\n",
    "\n",
    "print(classification_report(y_test_dummy, y_pred_dummyKNN_minmax))"
   ]
  },
  {
   "cell_type": "code",
   "execution_count": 26,
   "metadata": {},
   "outputs": [
    {
     "data": {
      "text/plain": [
       "<matplotlib.axes._subplots.AxesSubplot at 0x2939472e448>"
      ]
     },
     "execution_count": 26,
     "metadata": {},
     "output_type": "execute_result"
    },
    {
     "data": {
      "image/png": "[encoded data removed]",
      "text/plain": [
       "<Figure size 432x288 with 2 Axes>"
      ]
     },
     "metadata": {
      "needs_background": "light"
     },
     "output_type": "display_data"
    }
   ],
   "source": [
    "cm_KNNminmax = confusion_matrix(y_test_dummy, y_pred_dummyKNN_minmax, labels=[1, 0]) \n",
    "df_cm_KNNminmax = pd.DataFrame(cm_KNNminmax, \n",
    "                 columns=['Pred 1', 'Pred 0'],\n",
    "                 index = ['Act 1', 'Act 0'])\n",
    "sns.heatmap(df_cm_KNNminmax, annot=True)"
   ]
  },
  {
   "cell_type": "code",
   "execution_count": 27,
   "metadata": {},
   "outputs": [
    {
     "data": {
      "text/plain": [
       "0.8036055651209962"
      ]
     },
     "execution_count": 27,
     "metadata": {},
     "output_type": "execute_result"
    }
   ],
   "source": [
    "roc_auc_score(y_test_dummy, y_pred_dummyKNN_minmax)"
   ]
  },
  {
   "cell_type": "code",
   "execution_count": 28,
   "metadata": {},
   "outputs": [
    {
     "data": {
      "image/png": "[encoded data removed]",
      "text/plain": [
       "<Figure size 720x576 with 1 Axes>"
      ]
     },
     "metadata": {
      "needs_background": "light"
     },
     "output_type": "display_data"
    }
   ],
   "source": [
    "probs = model_dummyKNN2.predict_proba(X_test_minmaxscaled)\n",
    "\n",
    "preds = probs[:, 1]\n",
    "\n",
    "fpr, tpr, threshold = roc_curve(y_test_dummy, preds)\n",
    "sc = round(auc(fpr,tpr),2)\n",
    "\n",
    "plt.figure(figsize=(10,8))\n",
    "plt.title(\"Receiver Operator Characteristic\")\n",
    "plt.plot(fpr, tpr, 'b', label=f'AUC = {sc} ')\n",
    "\n",
    "plt.plot([0,1], [0,1], 'r-.')\n",
    "\n",
    "plt.ylim([0,1])\n",
    "plt.xlim([0,1])\n",
    "plt.legend(loc=2)\n",
    "plt.ylabel(\"True Positive Rates\")\n",
    "plt.xlabel(\"False Positive Rates\")\n",
    "plt.show()"
   ]
  },
  {
   "cell_type": "code",
   "execution_count": 29,
   "metadata": {},
   "outputs": [
    {
     "data": {
      "text/plain": [
       "{'n_neighbors': 31, 'p': 1, 'weights': 'uniform'}"
      ]
     },
     "execution_count": 29,
     "metadata": {},
     "output_type": "execute_result"
    }
   ],
   "source": [
    "model_dummyKNN2.best_params_"
   ]
  },
  {
   "cell_type": "code",
   "execution_count": 30,
   "metadata": {},
   "outputs": [
    {
     "data": {
      "text/plain": [
       "0.9101971956616084"
      ]
     },
     "execution_count": 30,
     "metadata": {},
     "output_type": "execute_result"
    }
   ],
   "source": [
    "model_dummyKNN2.best_score_"
   ]
  },
  {
   "cell_type": "code",
   "execution_count": 31,
   "metadata": {},
   "outputs": [
    {
     "name": "stdout",
     "output_type": "stream",
     "text": [
      "Fitting 3 folds for each of 100 candidates, totalling 300 fits\n"
     ]
    },
    {
     "name": "stderr",
     "output_type": "stream",
     "text": [
      "[Parallel(n_jobs=-1)]: Using backend LokyBackend with 8 concurrent workers.\n",
      "[Parallel(n_jobs=-1)]: Done  34 tasks      | elapsed:    9.7s\n",
      "[Parallel(n_jobs=-1)]: Done 184 tasks      | elapsed:   38.9s\n",
      "[Parallel(n_jobs=-1)]: Done 300 out of 300 | elapsed:  1.1min finished\n"
     ]
    },
    {
     "data": {
      "text/plain": [
       "GridSearchCV(cv=3, estimator=KNeighborsClassifier(), n_jobs=-1,\n",
       "             param_grid={'n_neighbors': range(1, 50, 2), 'p': [2, 1],\n",
       "                         'weights': ['uniform', 'distance']},\n",
       "             verbose=1)"
      ]
     },
     "execution_count": 31,
     "metadata": {},
     "output_type": "execute_result"
    }
   ],
   "source": [
    "scaler_standard = StandardScaler()\n",
    "\n",
    "X_train_standardscaled = scaler_standard.fit_transform(X_train_dummy)\n",
    "\n",
    "X_test_standardscaled = scaler_standard.fit_transform(X_test_dummy)\n",
    "\n",
    "model_dummyKNN3 = KNeighborsClassifier()\n",
    "\n",
    "params_dummyKNN = {\n",
    "    \"n_neighbors\" : range(1,50,2),\n",
    "    \"weights\" : [\"uniform\", \"distance\"],\n",
    "    \"p\" : [2, 1]\n",
    "}\n",
    "\n",
    "model_dummyKNN3 = GridSearchCV(model_dummyKNN3, params_dummyKNN, cv=3, n_jobs=-1, verbose=1)\n",
    "\n",
    "model_dummyKNN3.fit(X_train_standardscaled, y_train_dummy)"
   ]
  },
  {
   "cell_type": "code",
   "execution_count": 32,
   "metadata": {},
   "outputs": [
    {
     "name": "stdout",
     "output_type": "stream",
     "text": [
      "              precision    recall  f1-score   support\n",
      "\n",
      "           0       0.94      0.97      0.95      7310\n",
      "           1       0.67      0.51      0.58       928\n",
      "\n",
      "    accuracy                           0.92      8238\n",
      "   macro avg       0.80      0.74      0.76      8238\n",
      "weighted avg       0.91      0.92      0.91      8238\n",
      "\n"
     ]
    }
   ],
   "source": [
    "y_pred_dummyKNN_standard = model_dummyKNN3.predict(X_test_standardscaled)\n",
    "\n",
    "print(classification_report(y_test_dummy, y_pred_dummyKNN_standard))"
   ]
  },
  {
   "cell_type": "code",
   "execution_count": 33,
   "metadata": {},
   "outputs": [
    {
     "data": {
      "text/plain": [
       "<matplotlib.axes._subplots.AxesSubplot at 0x2939483adc8>"
      ]
     },
     "execution_count": 33,
     "metadata": {},
     "output_type": "execute_result"
    },
    {
     "data": {
      "image/png": "[encoded data removed]",
      "text/plain": [
       "<Figure size 432x288 with 2 Axes>"
      ]
     },
     "metadata": {
      "needs_background": "light"
     },
     "output_type": "display_data"
    }
   ],
   "source": [
    "cm_KNNstandard = confusion_matrix(y_test_dummy, y_pred_dummyKNN_standard, labels=[1, 0]) \n",
    "df_cm_KNNstandard = pd.DataFrame(cm_KNNstandard, \n",
    "                 columns=['Pred 1', 'Pred 0'],\n",
    "                 index = ['Act 1', 'Act 0'])\n",
    "sns.heatmap(df_cm_KNNstandard, annot=True)"
   ]
  },
  {
   "cell_type": "code",
   "execution_count": 34,
   "metadata": {},
   "outputs": [
    {
     "data": {
      "text/plain": [
       "0.7368936919194301"
      ]
     },
     "execution_count": 34,
     "metadata": {},
     "output_type": "execute_result"
    }
   ],
   "source": [
    "roc_auc_score(y_test_dummy, y_pred_dummyKNN_standard)"
   ]
  },
  {
   "cell_type": "code",
   "execution_count": 35,
   "metadata": {},
   "outputs": [
    {
     "data": {
      "image/png": "[encoded data removed]",
      "text/plain": [
       "<Figure size 720x576 with 1 Axes>"
      ]
     },
     "metadata": {
      "needs_background": "light"
     },
     "output_type": "display_data"
    }
   ],
   "source": [
    "probs = model_dummyKNN3.predict_proba(X_test_standardscaled)\n",
    "\n",
    "preds = probs[:, 1]\n",
    "\n",
    "fpr, tpr, threshold = roc_curve(y_test_dummy, preds)\n",
    "sc = round(auc(fpr,tpr),2)\n",
    "\n",
    "plt.figure(figsize=(10,8))\n",
    "plt.title(\"Receiver Operator Characteristic\")\n",
    "plt.plot(fpr, tpr, 'b', label=f'AUC = {sc} ')\n",
    "\n",
    "plt.plot([0,1], [0,1], 'r-.')\n",
    "\n",
    "plt.ylim([0,1])\n",
    "plt.xlim([0,1])\n",
    "plt.legend(loc=2)\n",
    "plt.ylabel(\"True Positive Rates\")\n",
    "plt.xlabel(\"False Positive Rates\")\n",
    "plt.show()"
   ]
  },
  {
   "cell_type": "code",
   "execution_count": 36,
   "metadata": {},
   "outputs": [
    {
     "data": {
      "text/plain": [
       "{'n_neighbors': 49, 'p': 2, 'weights': 'uniform'}"
      ]
     },
     "execution_count": 36,
     "metadata": {},
     "output_type": "execute_result"
    }
   ],
   "source": [
    "model_dummyKNN3.best_params_"
   ]
  },
  {
   "cell_type": "code",
   "execution_count": 37,
   "metadata": {},
   "outputs": [
    {
     "data": {
      "text/plain": [
       "0.9108042136982895"
      ]
     },
     "execution_count": 37,
     "metadata": {},
     "output_type": "execute_result"
    }
   ],
   "source": [
    "model_dummyKNN3.best_score_"
   ]
  },
  {
   "cell_type": "markdown",
   "metadata": {},
   "source": [
    "## Decision Tree Clasifier"
   ]
  },
  {
   "cell_type": "code",
   "execution_count": 16,
   "metadata": {},
   "outputs": [],
   "source": [
    "scaler_robust = RobustScaler()\n",
    "\n",
    "X_train_robustscaled = scaler_robust.fit_transform(X_train_dummy)\n",
    "\n",
    "X_test_robustscaled = scaler_robust.fit_transform(X_test_dummy)"
   ]
  },
  {
   "cell_type": "code",
   "execution_count": 42,
   "metadata": {},
   "outputs": [
    {
     "name": "stdout",
     "output_type": "stream",
     "text": [
      "Fitting 3 folds for each of 47432 candidates, totalling 142296 fits\n"
     ]
    },
    {
     "name": "stderr",
     "output_type": "stream",
     "text": [
      "[Parallel(n_jobs=-1)]: Using backend LokyBackend with 8 concurrent workers.\n",
      "[Parallel(n_jobs=-1)]: Done  34 tasks      | elapsed:    4.0s\n",
      "[Parallel(n_jobs=-1)]: Done 536 tasks      | elapsed:    7.3s\n",
      "[Parallel(n_jobs=-1)]: Done 1536 tasks      | elapsed:   13.2s\n",
      "[Parallel(n_jobs=-1)]: Done 2936 tasks      | elapsed:   20.3s\n",
      "[Parallel(n_jobs=-1)]: Done 4736 tasks      | elapsed:   29.9s\n",
      "[Parallel(n_jobs=-1)]: Done 6936 tasks      | elapsed:   44.1s\n",
      "[Parallel(n_jobs=-1)]: Done 9536 tasks      | elapsed:  1.1min\n",
      "[Parallel(n_jobs=-1)]: Done 12536 tasks      | elapsed:  1.5min\n",
      "[Parallel(n_jobs=-1)]: Done 18696 tasks      | elapsed:  1.8min\n",
      "[Parallel(n_jobs=-1)]: Done 26296 tasks      | elapsed:  2.1min\n",
      "[Parallel(n_jobs=-1)]: Done 34696 tasks      | elapsed:  2.6min\n",
      "[Parallel(n_jobs=-1)]: Done 43896 tasks      | elapsed:  3.1min\n",
      "[Parallel(n_jobs=-1)]: Done 53896 tasks      | elapsed:  3.8min\n",
      "[Parallel(n_jobs=-1)]: Done 64696 tasks      | elapsed:  4.6min\n",
      "[Parallel(n_jobs=-1)]: Done 76296 tasks      | elapsed:  5.5min\n",
      "[Parallel(n_jobs=-1)]: Done 88696 tasks      | elapsed:  6.5min\n",
      "[Parallel(n_jobs=-1)]: Done 101896 tasks      | elapsed:  7.7min\n",
      "[Parallel(n_jobs=-1)]: Done 115896 tasks      | elapsed:  9.1min\n",
      "[Parallel(n_jobs=-1)]: Done 130696 tasks      | elapsed: 10.6min\n",
      "[Parallel(n_jobs=-1)]: Done 142296 out of 142296 | elapsed: 11.9min finished\n"
     ]
    },
    {
     "data": {
      "text/plain": [
       "GridSearchCV(cv=3, estimator=DecisionTreeClassifier(), n_jobs=-1,\n",
       "             param_grid={'max_depth': [None, 1, 2, 3, 4, 5, 6, 7, 8, 9, 10],\n",
       "                         'max_features': ['auto', 0.1, 0.2, 0.3, 0.4, 0.5, 0.6,\n",
       "                                          0.7, 0.8, 0.9, 1],\n",
       "                         'min_samples_leaf': range(1, 15),\n",
       "                         'min_samples_split': range(2, 30)},\n",
       "             verbose=1)"
      ]
     },
     "execution_count": 42,
     "metadata": {},
     "output_type": "execute_result"
    }
   ],
   "source": [
    "model_dummyDT = DecisionTreeClassifier()\n",
    "\n",
    "params_dummyDT = {\n",
    "    \"max_depth\" : [None, 1, 2, 3, 4, 5, 6, 7, 8, 9, 10],    \n",
    "    \"min_samples_split\" : range(2,30,1),\n",
    "    \"min_samples_leaf\" : range(1,15,1),\n",
    "    \"max_features\" : [\"auto\", 0.1, 0.2, 0.3, 0.4, 0.5, 0.6, 0.7, 0.8, 0.9, 1]\n",
    "}\n",
    "\n",
    "model_dummyDT = GridSearchCV(model_dummyDT, params_dummyDT, cv=3, n_jobs=-1, verbose=1)\n",
    "\n",
    "model_dummyDT.fit(X_train_robustscaled, y_train_dummy)"
   ]
  },
  {
   "cell_type": "code",
   "execution_count": 43,
   "metadata": {},
   "outputs": [
    {
     "name": "stdout",
     "output_type": "stream",
     "text": [
      "              precision    recall  f1-score   support\n",
      "\n",
      "           0       0.94      0.97      0.95      7310\n",
      "           1       0.67      0.50      0.57       928\n",
      "\n",
      "    accuracy                           0.92      8238\n",
      "   macro avg       0.80      0.73      0.76      8238\n",
      "weighted avg       0.91      0.92      0.91      8238\n",
      "\n"
     ]
    }
   ],
   "source": [
    "y_pred_dummy_DTrobust = model_dummyDT.predict(X_test_robustscaled)\n",
    "\n",
    "print(classification_report(y_test_dummy, y_pred_dummy_DTrobust))"
   ]
  },
  {
   "cell_type": "code",
   "execution_count": 44,
   "metadata": {},
   "outputs": [
    {
     "data": {
      "text/plain": [
       "<matplotlib.axes._subplots.AxesSubplot at 0x1df961a8d48>"
      ]
     },
     "execution_count": 44,
     "metadata": {},
     "output_type": "execute_result"
    },
    {
     "data": {
      "image/png": "[encoded data removed]",
      "text/plain": [
       "<Figure size 432x288 with 2 Axes>"
      ]
     },
     "metadata": {
      "needs_background": "light"
     },
     "output_type": "display_data"
    }
   ],
   "source": [
    "cm_DTrobust = confusion_matrix(y_test_dummy, y_pred_dummy_DTrobust, labels=[1, 0]) \n",
    "df_cm_DTrobust = pd.DataFrame(cm_DTrobust, \n",
    "                 columns=['Pred 1', 'Pred 0'],\n",
    "                 index = ['Act 1', 'Act 0'])\n",
    "sns.heatmap(df_cm_DTrobust, annot=True)"
   ]
  },
  {
   "cell_type": "code",
   "execution_count": 45,
   "metadata": {},
   "outputs": [
    {
     "data": {
      "text/plain": [
       "0.7321129534412001"
      ]
     },
     "execution_count": 45,
     "metadata": {},
     "output_type": "execute_result"
    }
   ],
   "source": [
    "roc_auc_score(y_test_dummy, y_pred_dummy_DTrobust)"
   ]
  },
  {
   "cell_type": "code",
   "execution_count": 46,
   "metadata": {},
   "outputs": [
    {
     "data": {
      "image/png": "[encoded data removed]",
      "text/plain": [
       "<Figure size 720x576 with 1 Axes>"
      ]
     },
     "metadata": {
      "needs_background": "light"
     },
     "output_type": "display_data"
    }
   ],
   "source": [
    "probs = model_dummyDT.predict_proba(X_test_robustscaled)\n",
    "\n",
    "preds = probs[:, 1]\n",
    "\n",
    "fpr, tpr, threshold = roc_curve(y_test_dummy, preds)\n",
    "sc = round(auc(fpr,tpr),2)\n",
    "\n",
    "plt.figure(figsize=(10,8))\n",
    "plt.title(\"Receiver Operator Characteristic\")\n",
    "plt.plot(fpr, tpr, 'b', label=f'AUC = {sc} ')\n",
    "\n",
    "plt.plot([0,1], [0,1], 'r-.')\n",
    "\n",
    "plt.ylim([0,1])\n",
    "plt.xlim([0,1])\n",
    "plt.legend(loc=2)\n",
    "plt.ylabel(\"True Positive Rates\")\n",
    "plt.xlabel(\"False Positive Rates\")\n",
    "plt.show()"
   ]
  },
  {
   "cell_type": "code",
   "execution_count": 47,
   "metadata": {},
   "outputs": [
    {
     "data": {
      "text/plain": [
       "{'max_depth': 7,\n",
       " 'max_features': 0.8,\n",
       " 'min_samples_leaf': 7,\n",
       " 'min_samples_split': 7}"
      ]
     },
     "execution_count": 47,
     "metadata": {},
     "output_type": "execute_result"
    }
   ],
   "source": [
    "model_dummyDT.best_params_"
   ]
  },
  {
   "cell_type": "code",
   "execution_count": 48,
   "metadata": {},
   "outputs": [
    {
     "data": {
      "text/plain": [
       "0.9136569251997012"
      ]
     },
     "execution_count": 48,
     "metadata": {},
     "output_type": "execute_result"
    }
   ],
   "source": [
    "model_dummyDT.best_score_"
   ]
  },
  {
   "cell_type": "code",
   "execution_count": 49,
   "metadata": {},
   "outputs": [
    {
     "name": "stdout",
     "output_type": "stream",
     "text": [
      "Fitting 3 folds for each of 47432 candidates, totalling 142296 fits\n"
     ]
    },
    {
     "name": "stderr",
     "output_type": "stream",
     "text": [
      "[Parallel(n_jobs=-1)]: Using backend LokyBackend with 8 concurrent workers.\n",
      "[Parallel(n_jobs=-1)]: Done  34 tasks      | elapsed:    2.8s\n",
      "[Parallel(n_jobs=-1)]: Done 560 tasks      | elapsed:    6.3s\n",
      "[Parallel(n_jobs=-1)]: Done 1560 tasks      | elapsed:   12.3s\n",
      "[Parallel(n_jobs=-1)]: Done 2960 tasks      | elapsed:   19.6s\n",
      "[Parallel(n_jobs=-1)]: Done 4760 tasks      | elapsed:   29.4s\n",
      "[Parallel(n_jobs=-1)]: Done 6960 tasks      | elapsed:   43.8s\n",
      "[Parallel(n_jobs=-1)]: Done 9560 tasks      | elapsed:  1.1min\n",
      "[Parallel(n_jobs=-1)]: Done 12560 tasks      | elapsed:  1.5min\n",
      "[Parallel(n_jobs=-1)]: Done 18848 tasks      | elapsed:  1.8min\n",
      "[Parallel(n_jobs=-1)]: Done 26448 tasks      | elapsed:  2.2min\n",
      "[Parallel(n_jobs=-1)]: Done 34848 tasks      | elapsed:  2.6min\n",
      "[Parallel(n_jobs=-1)]: Done 44048 tasks      | elapsed:  3.1min\n",
      "[Parallel(n_jobs=-1)]: Done 54048 tasks      | elapsed:  3.8min\n",
      "[Parallel(n_jobs=-1)]: Done 64848 tasks      | elapsed:  4.6min\n",
      "[Parallel(n_jobs=-1)]: Done 76448 tasks      | elapsed:  5.6min\n",
      "[Parallel(n_jobs=-1)]: Done 88848 tasks      | elapsed:  6.7min\n",
      "[Parallel(n_jobs=-1)]: Done 102048 tasks      | elapsed:  7.9min\n",
      "[Parallel(n_jobs=-1)]: Done 116048 tasks      | elapsed:  9.3min\n",
      "[Parallel(n_jobs=-1)]: Done 130848 tasks      | elapsed: 10.8min\n",
      "[Parallel(n_jobs=-1)]: Done 142296 out of 142296 | elapsed: 12.1min finished\n"
     ]
    },
    {
     "data": {
      "text/plain": [
       "GridSearchCV(cv=3, estimator=DecisionTreeClassifier(), n_jobs=-1,\n",
       "             param_grid={'max_depth': [None, 1, 2, 3, 4, 5, 6, 7, 8, 9, 10],\n",
       "                         'max_features': ['auto', 0.1, 0.2, 0.3, 0.4, 0.5, 0.6,\n",
       "                                          0.7, 0.8, 0.9, 1],\n",
       "                         'min_samples_leaf': range(1, 15),\n",
       "                         'min_samples_split': range(2, 30)},\n",
       "             verbose=1)"
      ]
     },
     "execution_count": 49,
     "metadata": {},
     "output_type": "execute_result"
    }
   ],
   "source": [
    "scaler_minmax = MinMaxScaler()\n",
    "\n",
    "X_train_minmaxscaled = scaler_minmax.fit_transform(X_train_dummy)\n",
    "\n",
    "X_test_minmaxscaled = scaler_minmax.fit_transform(X_test_dummy)\n",
    "\n",
    "model_dummyDT2 = DecisionTreeClassifier()\n",
    "\n",
    "params_dummyDT = {\n",
    "    \"max_depth\" : [None, 1, 2, 3, 4, 5, 6, 7, 8, 9, 10],    \n",
    "    \"min_samples_split\" : range(2,30,1),\n",
    "    \"min_samples_leaf\" : range(1,15,1),\n",
    "    \"max_features\" : [\"auto\", 0.1, 0.2, 0.3, 0.4, 0.5, 0.6, 0.7, 0.8, 0.9, 1]\n",
    "}\n",
    "\n",
    "model_dummyDT2 = GridSearchCV(model_dummyDT2, params_dummyDT, cv=3, n_jobs=-1, verbose=1)\n",
    "\n",
    "model_dummyDT2.fit(X_train_minmaxscaled, y_train_dummy)"
   ]
  },
  {
   "cell_type": "code",
   "execution_count": 51,
   "metadata": {},
   "outputs": [
    {
     "name": "stdout",
     "output_type": "stream",
     "text": [
      "              precision    recall  f1-score   support\n",
      "\n",
      "           0       0.97      0.92      0.95      7310\n",
      "           1       0.56      0.77      0.65       928\n",
      "\n",
      "    accuracy                           0.91      8238\n",
      "   macro avg       0.76      0.85      0.80      8238\n",
      "weighted avg       0.92      0.91      0.91      8238\n",
      "\n"
     ]
    }
   ],
   "source": [
    "y_pred_dummy_DTminmax = model_dummyDT2.predict(X_test_minmaxscaled)\n",
    "\n",
    "print(classification_report(y_test_dummy, y_pred_dummy_DTminmax))"
   ]
  },
  {
   "cell_type": "code",
   "execution_count": 52,
   "metadata": {},
   "outputs": [
    {
     "data": {
      "text/plain": [
       "<matplotlib.axes._subplots.AxesSubplot at 0x1df94e8c188>"
      ]
     },
     "execution_count": 52,
     "metadata": {},
     "output_type": "execute_result"
    },
    {
     "data": {
      "image/png": "[encoded data removed]",
      "text/plain": [
       "<Figure size 432x288 with 2 Axes>"
      ]
     },
     "metadata": {
      "needs_background": "light"
     },
     "output_type": "display_data"
    }
   ],
   "source": [
    "cm_DTminmax = confusion_matrix(y_test_dummy, y_pred_dummy_DTminmax, labels=[1, 0]) \n",
    "df_cm_DTminmax = pd.DataFrame(cm_DTminmax, \n",
    "                 columns=['Pred 1', 'Pred 0'],\n",
    "                 index = ['Act 1', 'Act 0'])\n",
    "sns.heatmap(df_cm_DTminmax, annot=True)"
   ]
  },
  {
   "cell_type": "code",
   "execution_count": 53,
   "metadata": {},
   "outputs": [
    {
     "data": {
      "text/plain": [
       "0.8457873897353648"
      ]
     },
     "execution_count": 53,
     "metadata": {},
     "output_type": "execute_result"
    }
   ],
   "source": [
    "roc_auc_score(y_test_dummy, y_pred_dummy_DTminmax)"
   ]
  },
  {
   "cell_type": "code",
   "execution_count": 54,
   "metadata": {},
   "outputs": [
    {
     "data": {
      "image/png": "[encoded data removed]",
      "text/plain": [
       "<Figure size 720x576 with 1 Axes>"
      ]
     },
     "metadata": {
      "needs_background": "light"
     },
     "output_type": "display_data"
    }
   ],
   "source": [
    "probs = model_dummyDT2.predict_proba(X_test_minmaxscaled)\n",
    "\n",
    "preds = probs[:, 1]\n",
    "\n",
    "fpr, tpr, threshold = roc_curve(y_test_dummy, preds)\n",
    "sc = round(auc(fpr,tpr),2)\n",
    "\n",
    "plt.figure(figsize=(10,8))\n",
    "plt.title(\"Receiver Operator Characteristic\")\n",
    "plt.plot(fpr, tpr, 'b', label=f'AUC = {sc} ')\n",
    "\n",
    "plt.plot([0,1], [0,1], 'r-.')\n",
    "\n",
    "plt.ylim([0,1])\n",
    "plt.xlim([0,1])\n",
    "plt.legend(loc=2)\n",
    "plt.ylabel(\"True Positive Rates\")\n",
    "plt.xlabel(\"False Positive Rates\")\n",
    "plt.show()"
   ]
  },
  {
   "cell_type": "code",
   "execution_count": 55,
   "metadata": {},
   "outputs": [
    {
     "data": {
      "text/plain": [
       "{'max_depth': 6,\n",
       " 'max_features': 0.8,\n",
       " 'min_samples_leaf': 4,\n",
       " 'min_samples_split': 28}"
      ]
     },
     "execution_count": 55,
     "metadata": {},
     "output_type": "execute_result"
    }
   ],
   "source": [
    "model_dummyDT2.best_params_"
   ]
  },
  {
   "cell_type": "code",
   "execution_count": 56,
   "metadata": {},
   "outputs": [
    {
     "data": {
      "text/plain": [
       "0.9132624009159181"
      ]
     },
     "execution_count": 56,
     "metadata": {},
     "output_type": "execute_result"
    }
   ],
   "source": [
    "model_dummyDT2.best_score_"
   ]
  },
  {
   "cell_type": "code",
   "execution_count": 57,
   "metadata": {},
   "outputs": [
    {
     "name": "stdout",
     "output_type": "stream",
     "text": [
      "Fitting 3 folds for each of 47432 candidates, totalling 142296 fits\n"
     ]
    },
    {
     "name": "stderr",
     "output_type": "stream",
     "text": [
      "[Parallel(n_jobs=-1)]: Using backend LokyBackend with 8 concurrent workers.\n",
      "[Parallel(n_jobs=-1)]: Done  34 tasks      | elapsed:    2.9s\n",
      "[Parallel(n_jobs=-1)]: Done 560 tasks      | elapsed:    6.3s\n",
      "[Parallel(n_jobs=-1)]: Done 1560 tasks      | elapsed:   12.1s\n",
      "[Parallel(n_jobs=-1)]: Done 2960 tasks      | elapsed:   19.1s\n",
      "[Parallel(n_jobs=-1)]: Done 4760 tasks      | elapsed:   28.4s\n",
      "[Parallel(n_jobs=-1)]: Done 6960 tasks      | elapsed:   42.2s\n",
      "[Parallel(n_jobs=-1)]: Done 9560 tasks      | elapsed:  1.0min\n",
      "[Parallel(n_jobs=-1)]: Done 12560 tasks      | elapsed:  1.5min\n",
      "[Parallel(n_jobs=-1)]: Done 18848 tasks      | elapsed:  1.7min\n",
      "[Parallel(n_jobs=-1)]: Done 26448 tasks      | elapsed:  2.1min\n",
      "[Parallel(n_jobs=-1)]: Done 34848 tasks      | elapsed:  2.5min\n",
      "[Parallel(n_jobs=-1)]: Done 44048 tasks      | elapsed:  3.0min\n",
      "[Parallel(n_jobs=-1)]: Done 54048 tasks      | elapsed:  3.7min\n",
      "[Parallel(n_jobs=-1)]: Done 64848 tasks      | elapsed:  4.5min\n",
      "[Parallel(n_jobs=-1)]: Done 76448 tasks      | elapsed:  5.4min\n",
      "[Parallel(n_jobs=-1)]: Done 88848 tasks      | elapsed:  6.4min\n",
      "[Parallel(n_jobs=-1)]: Done 102048 tasks      | elapsed:  7.6min\n",
      "[Parallel(n_jobs=-1)]: Done 116048 tasks      | elapsed:  9.0min\n",
      "[Parallel(n_jobs=-1)]: Done 130848 tasks      | elapsed: 10.5min\n",
      "[Parallel(n_jobs=-1)]: Done 142296 out of 142296 | elapsed: 11.8min finished\n"
     ]
    },
    {
     "data": {
      "text/plain": [
       "GridSearchCV(cv=3, estimator=DecisionTreeClassifier(), n_jobs=-1,\n",
       "             param_grid={'max_depth': [None, 1, 2, 3, 4, 5, 6, 7, 8, 9, 10],\n",
       "                         'max_features': ['auto', 0.1, 0.2, 0.3, 0.4, 0.5, 0.6,\n",
       "                                          0.7, 0.8, 0.9, 1],\n",
       "                         'min_samples_leaf': range(1, 15),\n",
       "                         'min_samples_split': range(2, 30)},\n",
       "             verbose=1)"
      ]
     },
     "execution_count": 57,
     "metadata": {},
     "output_type": "execute_result"
    }
   ],
   "source": [
    "scaler_standard = StandardScaler()\n",
    "\n",
    "X_train_standardscaled = scaler_standard.fit_transform(X_train_dummy)\n",
    "\n",
    "X_test_standardscaled = scaler_standard.fit_transform(X_test_dummy)\n",
    "\n",
    "model_dummyDT3 = DecisionTreeClassifier()\n",
    "\n",
    "params_dummyDT = {\n",
    "    \"max_depth\" : [None, 1, 2, 3, 4, 5, 6, 7, 8, 9, 10],    \n",
    "    \"min_samples_split\" : range(2,30,1),\n",
    "    \"min_samples_leaf\" : range(1,15,1),\n",
    "    \"max_features\" : [\"auto\", 0.1, 0.2, 0.3, 0.4, 0.5, 0.6, 0.7, 0.8, 0.9, 1]\n",
    "}\n",
    "\n",
    "model_dummyDT3 = GridSearchCV(model_dummyDT3, params_dummyDT, cv=3, n_jobs=-1, verbose=1)\n",
    "\n",
    "model_dummyDT3.fit(X_train_standardscaled, y_train_dummy)"
   ]
  },
  {
   "cell_type": "code",
   "execution_count": 58,
   "metadata": {},
   "outputs": [
    {
     "name": "stdout",
     "output_type": "stream",
     "text": [
      "              precision    recall  f1-score   support\n",
      "\n",
      "           0       0.94      0.96      0.95      7310\n",
      "           1       0.65      0.53      0.58       928\n",
      "\n",
      "    accuracy                           0.91      8238\n",
      "   macro avg       0.79      0.75      0.77      8238\n",
      "weighted avg       0.91      0.91      0.91      8238\n",
      "\n"
     ]
    }
   ],
   "source": [
    "y_pred_dummy_DTstandard = model_dummyDT3.predict(X_test_standardscaled)\n",
    "\n",
    "print(classification_report(y_test_dummy, y_pred_dummy_DTstandard))"
   ]
  },
  {
   "cell_type": "code",
   "execution_count": 59,
   "metadata": {},
   "outputs": [
    {
     "data": {
      "text/plain": [
       "<matplotlib.axes._subplots.AxesSubplot at 0x1df9e5ba408>"
      ]
     },
     "execution_count": 59,
     "metadata": {},
     "output_type": "execute_result"
    },
    {
     "data": {
      "image/png": "[encoded data removed]",
      "text/plain": [
       "<Figure size 432x288 with 2 Axes>"
      ]
     },
     "metadata": {
      "needs_background": "light"
     },
     "output_type": "display_data"
    }
   ],
   "source": [
    "cm_DTstandard = confusion_matrix(y_test_dummy, y_pred_dummy_DTstandard, labels=[1, 0]) \n",
    "df_cm_DTstandard = pd.DataFrame(cm_DTstandard, \n",
    "                 columns=['Pred 1', 'Pred 0'],\n",
    "                 index = ['Act 1', 'Act 0'])\n",
    "sns.heatmap(df_cm_DTstandard, annot=True)"
   ]
  },
  {
   "cell_type": "code",
   "execution_count": 60,
   "metadata": {},
   "outputs": [
    {
     "data": {
      "text/plain": [
       "0.747157147742818"
      ]
     },
     "execution_count": 60,
     "metadata": {},
     "output_type": "execute_result"
    }
   ],
   "source": [
    "roc_auc_score(y_test_dummy, y_pred_dummy_DTstandard)"
   ]
  },
  {
   "cell_type": "code",
   "execution_count": 61,
   "metadata": {},
   "outputs": [
    {
     "data": {
      "image/png": "[encoded data removed]",
      "text/plain": [
       "<Figure size 720x576 with 1 Axes>"
      ]
     },
     "metadata": {
      "needs_background": "light"
     },
     "output_type": "display_data"
    }
   ],
   "source": [
    "probs = model_dummyDT3.predict_proba(X_test_standardscaled)\n",
    "\n",
    "preds = probs[:, 1]\n",
    "\n",
    "fpr, tpr, threshold = roc_curve(y_test_dummy, preds)\n",
    "sc = round(auc(fpr,tpr),2)\n",
    "\n",
    "plt.figure(figsize=(10,8))\n",
    "plt.title(\"Receiver Operator Characteristic\")\n",
    "plt.plot(fpr, tpr, 'b', label=f'AUC = {sc} ')\n",
    "\n",
    "plt.plot([0,1], [0,1], 'r-.')\n",
    "\n",
    "plt.ylim([0,1])\n",
    "plt.xlim([0,1])\n",
    "plt.legend(loc=2)\n",
    "plt.ylabel(\"True Positive Rates\")\n",
    "plt.xlabel(\"False Positive Rates\")\n",
    "plt.show()"
   ]
  },
  {
   "cell_type": "code",
   "execution_count": 62,
   "metadata": {},
   "outputs": [
    {
     "data": {
      "text/plain": [
       "{'max_depth': 5,\n",
       " 'max_features': 0.7,\n",
       " 'min_samples_leaf': 4,\n",
       " 'min_samples_split': 28}"
      ]
     },
     "execution_count": 62,
     "metadata": {},
     "output_type": "execute_result"
    }
   ],
   "source": [
    "model_dummyDT3.best_params_"
   ]
  },
  {
   "cell_type": "code",
   "execution_count": 63,
   "metadata": {},
   "outputs": [
    {
     "data": {
      "text/plain": [
       "0.913080353806409"
      ]
     },
     "execution_count": 63,
     "metadata": {},
     "output_type": "execute_result"
    }
   ],
   "source": [
    "model_dummyDT3.best_score_"
   ]
  },
  {
   "cell_type": "markdown",
   "metadata": {},
   "source": [
    "## Random Forest Classifier"
   ]
  },
  {
   "cell_type": "code",
   "execution_count": 14,
   "metadata": {},
   "outputs": [
    {
     "name": "stdout",
     "output_type": "stream",
     "text": [
      "Fitting 3 folds for each of 1080 candidates, totalling 3240 fits\n"
     ]
    },
    {
     "name": "stderr",
     "output_type": "stream",
     "text": [
      "[Parallel(n_jobs=-1)]: Using backend LokyBackend with 8 concurrent workers.\n",
      "[Parallel(n_jobs=-1)]: Done  34 tasks      | elapsed:  1.2min\n",
      "[Parallel(n_jobs=-1)]: Done 184 tasks      | elapsed:  6.3min\n",
      "[Parallel(n_jobs=-1)]: Done 434 tasks      | elapsed: 30.1min\n",
      "[Parallel(n_jobs=-1)]: Done 784 tasks      | elapsed: 38.7min\n",
      "[Parallel(n_jobs=-1)]: Done 1234 tasks      | elapsed: 46.3min\n",
      "[Parallel(n_jobs=-1)]: Done 1784 tasks      | elapsed: 58.5min\n",
      "[Parallel(n_jobs=-1)]: Done 2434 tasks      | elapsed: 118.8min\n",
      "[Parallel(n_jobs=-1)]: Done 3184 tasks      | elapsed: 144.3min\n",
      "[Parallel(n_jobs=-1)]: Done 3240 out of 3240 | elapsed: 145.8min finished\n"
     ]
    },
    {
     "data": {
      "text/plain": [
       "GridSearchCV(cv=3, estimator=RandomForestClassifier(), n_jobs=-1,\n",
       "             param_grid={'max_depth': [None, 2, 4, 6, 8, 10],\n",
       "                         'max_features': ['auto', 0.25, 0.5, 0.75, 1],\n",
       "                         'min_samples_leaf': [1, 3, 5],\n",
       "                         'min_samples_split': [2, 6, 10],\n",
       "                         'n_estimators': [100, 400, 700, 1000]},\n",
       "             verbose=1)"
      ]
     },
     "execution_count": 14,
     "metadata": {},
     "output_type": "execute_result"
    }
   ],
   "source": [
    "scaler_robust = RobustScaler()\n",
    "\n",
    "X_train_robustscaled = scaler_robust.fit_transform(X_train_dummy)\n",
    "\n",
    "X_test_robustscaled = scaler_robust.fit_transform(X_test_dummy)\n",
    "\n",
    "model_dummyRF = RandomForestClassifier()\n",
    "\n",
    "params_dummyRF = {\n",
    "    \"n_estimators\" : [100, 400, 700, 1000],  \n",
    "    \"max_depth\" : [None, 2, 4, 6, 8, 10],\n",
    "    \"min_samples_split\" : [2,6,10],\n",
    "    \"min_samples_leaf\" : [1,3,5],\n",
    "    \"max_features\" : [\"auto\", 0.25, 0.5, 0.75, 1]\n",
    "}\n",
    "\n",
    "model_dummyRF = GridSearchCV(model_dummyRF, params_dummyRF, cv=3, n_jobs=-1, verbose=1)\n",
    "\n",
    "model_dummyRF.fit(X_train_robustscaled, y_train_dummy)"
   ]
  },
  {
   "cell_type": "code",
   "execution_count": 39,
   "metadata": {},
   "outputs": [
    {
     "name": "stdout",
     "output_type": "stream",
     "text": [
      "              precision    recall  f1-score   support\n",
      "\n",
      "           0       0.94      0.97      0.96      7310\n",
      "           1       0.70      0.55      0.61       928\n",
      "\n",
      "    accuracy                           0.92      8238\n",
      "   macro avg       0.82      0.76      0.78      8238\n",
      "weighted avg       0.92      0.92      0.92      8238\n",
      "\n"
     ]
    }
   ],
   "source": [
    "y_pred_dummyRFrobust = model_dummyRF.predict(X_test_robustscaled)\n",
    "\n",
    "print(classification_report(y_test_dummy, y_pred_dummyRFrobust))"
   ]
  },
  {
   "cell_type": "code",
   "execution_count": 40,
   "metadata": {},
   "outputs": [
    {
     "data": {
      "text/plain": [
       "<matplotlib.axes._subplots.AxesSubplot at 0x1df96040888>"
      ]
     },
     "execution_count": 40,
     "metadata": {},
     "output_type": "execute_result"
    },
    {
     "data": {
      "image/png": "[encoded data removed]",
      "text/plain": [
       "<Figure size 432x288 with 2 Axes>"
      ]
     },
     "metadata": {
      "needs_background": "light"
     },
     "output_type": "display_data"
    }
   ],
   "source": [
    "cm_RFrobust = confusion_matrix(y_test_dummy, y_pred_dummyRFrobust, labels=[1, 0]) \n",
    "df_cm_RFrobust = pd.DataFrame(cm_RFrobust, \n",
    "                 columns=['Pred 1', 'Pred 0'],\n",
    "                 index = ['Act 1', 'Act 0'])\n",
    "sns.heatmap(df_cm_RFrobust, annot=True)"
   ]
  },
  {
   "cell_type": "code",
   "execution_count": 41,
   "metadata": {},
   "outputs": [
    {
     "data": {
      "text/plain": [
       "0.7574446318222557"
      ]
     },
     "execution_count": 41,
     "metadata": {},
     "output_type": "execute_result"
    }
   ],
   "source": [
    "roc_auc_score(y_test_dummy, y_pred_dummyRFrobust)"
   ]
  },
  {
   "cell_type": "code",
   "execution_count": 19,
   "metadata": {},
   "outputs": [
    {
     "data": {
      "image/png": "[encoded data removed]",
      "text/plain": [
       "<Figure size 720x576 with 1 Axes>"
      ]
     },
     "metadata": {
      "needs_background": "light"
     },
     "output_type": "display_data"
    }
   ],
   "source": [
    "probs = model_dummyRF.predict_proba(X_test_robustscaled)\n",
    "\n",
    "preds = probs[:, 1]\n",
    "\n",
    "fpr, tpr, threshold = roc_curve(y_test_dummy, preds)\n",
    "sc = round(auc(fpr,tpr),2)\n",
    "\n",
    "plt.figure(figsize=(10,8))\n",
    "plt.title(\"Receiver Operator Characteristic\")\n",
    "plt.plot(fpr, tpr, 'b', label=f'AUC = {sc} ')\n",
    "\n",
    "plt.plot([0,1], [0,1], 'r-.')\n",
    "\n",
    "plt.ylim([0,1])\n",
    "plt.xlim([0,1])\n",
    "plt.legend(loc=2)\n",
    "plt.ylabel(\"True Positive Rates\")\n",
    "plt.xlabel(\"False Positive Rates\")\n",
    "plt.show()"
   ]
  },
  {
   "cell_type": "code",
   "execution_count": 64,
   "metadata": {},
   "outputs": [
    {
     "data": {
      "text/plain": [
       "{'max_depth': 8,\n",
       " 'max_features': 0.75,\n",
       " 'min_samples_leaf': 5,\n",
       " 'min_samples_split': 10,\n",
       " 'n_estimators': 400}"
      ]
     },
     "execution_count": 64,
     "metadata": {},
     "output_type": "execute_result"
    }
   ],
   "source": [
    "model_dummyRF.best_params_"
   ]
  },
  {
   "cell_type": "code",
   "execution_count": 65,
   "metadata": {},
   "outputs": [
    {
     "data": {
      "text/plain": [
       "0.9140211713894414"
      ]
     },
     "execution_count": 65,
     "metadata": {},
     "output_type": "execute_result"
    }
   ],
   "source": [
    "model_dummyRF.best_score_"
   ]
  },
  {
   "cell_type": "code",
   "execution_count": 23,
   "metadata": {},
   "outputs": [
    {
     "name": "stdout",
     "output_type": "stream",
     "text": [
      "Fitting 3 folds for each of 1080 candidates, totalling 3240 fits\n"
     ]
    },
    {
     "name": "stderr",
     "output_type": "stream",
     "text": [
      "[Parallel(n_jobs=-1)]: Using backend LokyBackend with 8 concurrent workers.\n",
      "[Parallel(n_jobs=-1)]: Done  34 tasks      | elapsed:  1.2min\n",
      "[Parallel(n_jobs=-1)]: Done 184 tasks      | elapsed:  6.4min\n",
      "[Parallel(n_jobs=-1)]: Done 434 tasks      | elapsed: 17.3min\n",
      "[Parallel(n_jobs=-1)]: Done 784 tasks      | elapsed: 24.1min\n",
      "[Parallel(n_jobs=-1)]: Done 1234 tasks      | elapsed: 31.8min\n",
      "[Parallel(n_jobs=-1)]: Done 1784 tasks      | elapsed: 43.9min\n",
      "[Parallel(n_jobs=-1)]: Done 2434 tasks      | elapsed: 62.7min\n",
      "[Parallel(n_jobs=-1)]: Done 3184 tasks      | elapsed: 130.1min\n",
      "[Parallel(n_jobs=-1)]: Done 3240 out of 3240 | elapsed: 132.8min finished\n"
     ]
    },
    {
     "data": {
      "text/plain": [
       "GridSearchCV(cv=3, estimator=RandomForestClassifier(), n_jobs=-1,\n",
       "             param_grid={'max_depth': [None, 2, 4, 6, 8, 10],\n",
       "                         'max_features': ['auto', 0.25, 0.5, 0.75, 1],\n",
       "                         'min_samples_leaf': [1, 3, 5],\n",
       "                         'min_samples_split': [2, 6, 10],\n",
       "                         'n_estimators': [100, 400, 700, 1000]},\n",
       "             verbose=1)"
      ]
     },
     "execution_count": 23,
     "metadata": {},
     "output_type": "execute_result"
    }
   ],
   "source": [
    "scaler_minmax = MinMaxScaler()\n",
    "\n",
    "X_train_minmaxscaled = scaler_minmax.fit_transform(X_train_dummy)\n",
    "\n",
    "X_test_minmaxscaled = scaler_minmax.fit_transform(X_test_dummy)\n",
    "\n",
    "model_dummyRF2 = RandomForestClassifier()\n",
    "\n",
    "params_dummyRF = {\n",
    "    \"n_estimators\" : [100, 400, 700, 1000],  \n",
    "    \"max_depth\" : [None, 2, 4, 6, 8, 10],\n",
    "    \"min_samples_split\" : [2,6,10],\n",
    "    \"min_samples_leaf\" : [1,3,5],\n",
    "    \"max_features\" : [\"auto\", 0.25, 0.5, 0.75, 1]\n",
    "}\n",
    "\n",
    "model_dummyRF2 = GridSearchCV(model_dummyRF2, params_dummyRF, cv=3, n_jobs=-1, verbose=1)\n",
    "\n",
    "model_dummyRF2.fit(X_train_minmaxscaled, y_train_dummy)"
   ]
  },
  {
   "cell_type": "code",
   "execution_count": 31,
   "metadata": {},
   "outputs": [
    {
     "name": "stdout",
     "output_type": "stream",
     "text": [
      "              precision    recall  f1-score   support\n",
      "\n",
      "           0       0.96      0.93      0.95      7310\n",
      "           1       0.57      0.72      0.64       928\n",
      "\n",
      "    accuracy                           0.91      8238\n",
      "   macro avg       0.77      0.82      0.79      8238\n",
      "weighted avg       0.92      0.91      0.91      8238\n",
      "\n"
     ]
    }
   ],
   "source": [
    "y_pred_dummy_RFminmax = model_dummyRF2.predict(X_test_minmaxscaled)\n",
    "\n",
    "print(classification_report(y_test_dummy, y_pred_dummy_RFminmax))"
   ]
  },
  {
   "cell_type": "code",
   "execution_count": 37,
   "metadata": {},
   "outputs": [
    {
     "data": {
      "text/plain": [
       "<matplotlib.axes._subplots.AxesSubplot at 0x1df96094948>"
      ]
     },
     "execution_count": 37,
     "metadata": {},
     "output_type": "execute_result"
    },
    {
     "data": {
      "image/png": "[encoded data removed]",
      "text/plain": [
       "<Figure size 432x288 with 2 Axes>"
      ]
     },
     "metadata": {
      "needs_background": "light"
     },
     "output_type": "display_data"
    }
   ],
   "source": [
    "cm_RFminmax = confusion_matrix(y_test_dummy, y_pred_dummy_RFminmax, labels=[1, 0]) \n",
    "df_cm_RFminmax = pd.DataFrame(cm_RFminmax, \n",
    "                 columns=['Pred 1', 'Pred 0'],\n",
    "                 index = ['Act 1', 'Act 0'])\n",
    "sns.heatmap(df_cm_RFminmax, annot=True)"
   ]
  },
  {
   "cell_type": "code",
   "execution_count": 38,
   "metadata": {},
   "outputs": [
    {
     "data": {
      "text/plain": [
       "0.8244396846549366"
      ]
     },
     "execution_count": 38,
     "metadata": {},
     "output_type": "execute_result"
    }
   ],
   "source": [
    "roc_auc_score(y_test_dummy, y_pred_dummy_RFminmax)"
   ]
  },
  {
   "cell_type": "code",
   "execution_count": 28,
   "metadata": {},
   "outputs": [
    {
     "data": {
      "image/png": "[encoded data removed]",
      "text/plain": [
       "<Figure size 720x576 with 1 Axes>"
      ]
     },
     "metadata": {
      "needs_background": "light"
     },
     "output_type": "display_data"
    }
   ],
   "source": [
    "probs = model_dummyRF2.predict_proba(X_test_minmaxscaled)\n",
    "\n",
    "preds = probs[:, 1]\n",
    "\n",
    "fpr, tpr, threshold = roc_curve(y_test_dummy, preds)\n",
    "sc = round(auc(fpr,tpr),2)\n",
    "\n",
    "plt.figure(figsize=(10,8))\n",
    "plt.title(\"Receiver Operator Characteristic\")\n",
    "plt.plot(fpr, tpr, 'b', label=f'AUC = {sc} ')\n",
    "\n",
    "plt.plot([0,1], [0,1], 'r-.')\n",
    "\n",
    "plt.ylim([0,1])\n",
    "plt.xlim([0,1])\n",
    "plt.legend(loc=2)\n",
    "plt.ylabel(\"True Positive Rates\")\n",
    "plt.xlabel(\"False Positive Rates\")\n",
    "plt.show()"
   ]
  },
  {
   "cell_type": "code",
   "execution_count": 66,
   "metadata": {},
   "outputs": [
    {
     "data": {
      "text/plain": [
       "{'max_depth': 8,\n",
       " 'max_features': 0.5,\n",
       " 'min_samples_leaf': 5,\n",
       " 'min_samples_split': 6,\n",
       " 'n_estimators': 400}"
      ]
     },
     "execution_count": 66,
     "metadata": {},
     "output_type": "execute_result"
    }
   ],
   "source": [
    "model_dummyRF2.best_params_"
   ]
  },
  {
   "cell_type": "code",
   "execution_count": 67,
   "metadata": {},
   "outputs": [
    {
     "data": {
      "text/plain": [
       "0.9140818850744569"
      ]
     },
     "execution_count": 67,
     "metadata": {},
     "output_type": "execute_result"
    }
   ],
   "source": [
    "model_dummyRF2.best_score_"
   ]
  },
  {
   "cell_type": "code",
   "execution_count": 32,
   "metadata": {},
   "outputs": [
    {
     "name": "stdout",
     "output_type": "stream",
     "text": [
      "Fitting 3 folds for each of 1080 candidates, totalling 3240 fits\n"
     ]
    },
    {
     "name": "stderr",
     "output_type": "stream",
     "text": [
      "[Parallel(n_jobs=-1)]: Using backend LokyBackend with 8 concurrent workers.\n",
      "[Parallel(n_jobs=-1)]: Done  34 tasks      | elapsed:  1.2min\n",
      "[Parallel(n_jobs=-1)]: Done 184 tasks      | elapsed:  6.4min\n",
      "[Parallel(n_jobs=-1)]: Done 434 tasks      | elapsed: 42.6min\n",
      "[Parallel(n_jobs=-1)]: Done 784 tasks      | elapsed: 49.3min\n",
      "[Parallel(n_jobs=-1)]: Done 1234 tasks      | elapsed: 56.9min\n",
      "[Parallel(n_jobs=-1)]: Done 1784 tasks      | elapsed: 69.2min\n",
      "[Parallel(n_jobs=-1)]: Done 2434 tasks      | elapsed: 87.5min\n",
      "[Parallel(n_jobs=-1)]: Done 3184 tasks      | elapsed: 113.3min\n",
      "[Parallel(n_jobs=-1)]: Done 3240 out of 3240 | elapsed: 114.9min finished\n"
     ]
    },
    {
     "data": {
      "text/plain": [
       "GridSearchCV(cv=3, estimator=RandomForestClassifier(), n_jobs=-1,\n",
       "             param_grid={'max_depth': [None, 2, 4, 6, 8, 10],\n",
       "                         'max_features': ['auto', 0.25, 0.5, 0.75, 1],\n",
       "                         'min_samples_leaf': [1, 3, 5],\n",
       "                         'min_samples_split': [2, 6, 10],\n",
       "                         'n_estimators': [100, 400, 700, 1000]},\n",
       "             verbose=1)"
      ]
     },
     "execution_count": 32,
     "metadata": {},
     "output_type": "execute_result"
    }
   ],
   "source": [
    "scaler_standard = StandardScaler()\n",
    "\n",
    "X_train_standardscaled = scaler_standard.fit_transform(X_train_dummy)\n",
    "\n",
    "X_test_standardscaled = scaler_standard.fit_transform(X_test_dummy)\n",
    "\n",
    "model_dummyRF3 = RandomForestClassifier()\n",
    "\n",
    "params_dummyRF = {\n",
    "    \"n_estimators\" : [100, 400, 700, 1000],  \n",
    "    \"max_depth\" : [None, 2, 4, 6, 8, 10],\n",
    "    \"min_samples_split\" : [2,6,10],\n",
    "    \"min_samples_leaf\" : [1,3,5],\n",
    "    \"max_features\" : [\"auto\", 0.25, 0.5, 0.75, 1]\n",
    "}\n",
    "\n",
    "model_dummyRF3 = GridSearchCV(model_dummyRF3, params_dummyRF, cv=3, n_jobs=-1, verbose=1)\n",
    "\n",
    "model_dummyRF3.fit(X_train_standardscaled, y_train_dummy)"
   ]
  },
  {
   "cell_type": "code",
   "execution_count": 33,
   "metadata": {},
   "outputs": [
    {
     "name": "stdout",
     "output_type": "stream",
     "text": [
      "              precision    recall  f1-score   support\n",
      "\n",
      "           0       0.94      0.97      0.95      7310\n",
      "           1       0.66      0.52      0.58       928\n",
      "\n",
      "    accuracy                           0.92      8238\n",
      "   macro avg       0.80      0.74      0.77      8238\n",
      "weighted avg       0.91      0.92      0.91      8238\n",
      "\n"
     ]
    }
   ],
   "source": [
    "y_pred_dummy_RFstandard = model_dummyRF3.predict(X_test_standardscaled)\n",
    "\n",
    "print(classification_report(y_test_dummy, y_pred_dummy_RFstandard))"
   ]
  },
  {
   "cell_type": "code",
   "execution_count": 34,
   "metadata": {},
   "outputs": [
    {
     "data": {
      "text/plain": [
       "<matplotlib.axes._subplots.AxesSubplot at 0x1df960d2b88>"
      ]
     },
     "execution_count": 34,
     "metadata": {},
     "output_type": "execute_result"
    },
    {
     "data": {
      "image/png": "[encoded data removed]",
      "text/plain": [
       "<Figure size 432x288 with 2 Axes>"
      ]
     },
     "metadata": {
      "needs_background": "light"
     },
     "output_type": "display_data"
    }
   ],
   "source": [
    "cm_RFstandard = confusion_matrix(y_test_dummy, y_pred_dummy_RFstandard, labels=[1, 0]) \n",
    "df_cm_RFstandard = pd.DataFrame(cm_RFstandard, \n",
    "                 columns=['Pred 1', 'Pred 0'],\n",
    "                 index = ['Act 1', 'Act 0'])\n",
    "sns.heatmap(df_cm_RFstandard, annot=True)"
   ]
  },
  {
   "cell_type": "code",
   "execution_count": 35,
   "metadata": {},
   "outputs": [
    {
     "data": {
      "text/plain": [
       "0.7428720104721921"
      ]
     },
     "execution_count": 35,
     "metadata": {},
     "output_type": "execute_result"
    }
   ],
   "source": [
    "roc_auc_score(y_test_dummy, y_pred_dummy_RFstandard)"
   ]
  },
  {
   "cell_type": "code",
   "execution_count": 36,
   "metadata": {},
   "outputs": [
    {
     "data": {
      "image/png": "[encoded data removed]",
      "text/plain": [
       "<Figure size 720x576 with 1 Axes>"
      ]
     },
     "metadata": {
      "needs_background": "light"
     },
     "output_type": "display_data"
    }
   ],
   "source": [
    "probs = model_dummyRF3.predict_proba(X_test_standardscaled)\n",
    "\n",
    "preds = probs[:, 1]\n",
    "\n",
    "fpr, tpr, threshold = roc_curve(y_test_dummy, preds)\n",
    "sc = round(auc(fpr,tpr),2)\n",
    "\n",
    "plt.figure(figsize=(10,8))\n",
    "plt.title(\"Receiver Operator Characteristic\")\n",
    "plt.plot(fpr, tpr, 'b', label=f'AUC = {sc} ')\n",
    "\n",
    "plt.plot([0,1], [0,1], 'r-.')\n",
    "\n",
    "plt.ylim([0,1])\n",
    "plt.xlim([0,1])\n",
    "plt.legend(loc=2)\n",
    "plt.ylabel(\"True Positive Rates\")\n",
    "plt.xlabel(\"False Positive Rates\")\n",
    "plt.show()"
   ]
  },
  {
   "cell_type": "code",
   "execution_count": 68,
   "metadata": {},
   "outputs": [
    {
     "data": {
      "text/plain": [
       "{'max_depth': 8,\n",
       " 'max_features': 0.75,\n",
       " 'min_samples_leaf': 3,\n",
       " 'min_samples_split': 2,\n",
       " 'n_estimators': 700}"
      ]
     },
     "execution_count": 68,
     "metadata": {},
     "output_type": "execute_result"
    }
   ],
   "source": [
    "model_dummyRF3.best_params_"
   ]
  },
  {
   "cell_type": "code",
   "execution_count": 69,
   "metadata": {},
   "outputs": [
    {
     "data": {
      "text/plain": [
       "0.9139301354007188"
      ]
     },
     "execution_count": 69,
     "metadata": {},
     "output_type": "execute_result"
    }
   ],
   "source": [
    "model_dummyRF3.best_score_"
   ]
  },
  {
   "cell_type": "markdown",
   "metadata": {},
   "source": [
    "## SVM (Support Vector Machine) Classifier"
   ]
  },
  {
   "cell_type": "code",
   "execution_count": 9,
   "metadata": {},
   "outputs": [
    {
     "name": "stdout",
     "output_type": "stream",
     "text": [
      "Fitting 3 folds for each of 140 candidates, totalling 420 fits\n"
     ]
    },
    {
     "name": "stderr",
     "output_type": "stream",
     "text": [
      "[Parallel(n_jobs=-1)]: Using backend LokyBackend with 8 concurrent workers.\n",
      "[Parallel(n_jobs=-1)]: Done  34 tasks      | elapsed:  2.8min\n",
      "[Parallel(n_jobs=-1)]: Done 184 tasks      | elapsed: 20.8min\n",
      "[Parallel(n_jobs=-1)]: Done 420 out of 420 | elapsed: 54.2min finished\n"
     ]
    },
    {
     "data": {
      "text/plain": [
       "GridSearchCV(cv=3, estimator=SVC(), n_jobs=-1,\n",
       "             param_grid={'C': [0.1, 0.2, 0.3, 0.4, 0.5, 0.6, 0.7, 0.8, 0.9, 1],\n",
       "                         'class_weight': [None, 'balanced'],\n",
       "                         'gamma': array([1.00000000e-04, 2.15443469e-03, 4.64158883e-02, 1.00000000e+00,\n",
       "       2.15443469e+01, 4.64158883e+02, 1.00000000e+04])},\n",
       "             verbose=1)"
      ]
     },
     "execution_count": 9,
     "metadata": {},
     "output_type": "execute_result"
    }
   ],
   "source": [
    "scaler_robust = RobustScaler()\n",
    "\n",
    "X_train_robustscaled = scaler_robust.fit_transform(X_train_dummy)\n",
    "\n",
    "X_test_robustscaled = scaler_robust.fit_transform(X_test_dummy)\n",
    "\n",
    "model_dummySVC = SVC()\n",
    "\n",
    "params_dummySVC = {\n",
    "    \"C\" : [0.1, 0.2, 0.3, 0.4, 0.5, 0.6, 0.7, 0.8, 0.9, 1],\n",
    "    \"gamma\" : np.logspace(-4, 4, 7),    \n",
    "    \"class_weight\" : [None, \"balanced\"]\n",
    "}\n",
    "\n",
    "model_dummySVC = GridSearchCV(model_dummySVC, params_dummySVC, cv=3, n_jobs=-1, verbose=1)\n",
    "\n",
    "model_dummySVC.fit(X_train_robustscaled, y_train_dummy)"
   ]
  },
  {
   "cell_type": "code",
   "execution_count": 10,
   "metadata": {},
   "outputs": [
    {
     "name": "stdout",
     "output_type": "stream",
     "text": [
      "              precision    recall  f1-score   support\n",
      "\n",
      "           0       0.93      0.97      0.95      7310\n",
      "           1       0.69      0.46      0.55       928\n",
      "\n",
      "    accuracy                           0.92      8238\n",
      "   macro avg       0.81      0.72      0.75      8238\n",
      "weighted avg       0.91      0.92      0.91      8238\n",
      "\n"
     ]
    }
   ],
   "source": [
    "y_pred_dummy_SVCrobust = model_dummySVC.predict(X_test_robustscaled)\n",
    "\n",
    "print(classification_report(y_test_dummy, y_pred_dummy_SVCrobust))"
   ]
  },
  {
   "cell_type": "code",
   "execution_count": 11,
   "metadata": {},
   "outputs": [
    {
     "data": {
      "text/plain": [
       "<matplotlib.axes._subplots.AxesSubplot at 0x1fa99723748>"
      ]
     },
     "execution_count": 11,
     "metadata": {},
     "output_type": "execute_result"
    },
    {
     "data": {
      "image/png": "[encoded data removed]",
      "text/plain": [
       "<Figure size 432x288 with 2 Axes>"
      ]
     },
     "metadata": {
      "needs_background": "light"
     },
     "output_type": "display_data"
    }
   ],
   "source": [
    "cm_SVCrobust = confusion_matrix(y_test_dummy, y_pred_dummy_SVCrobust, labels=[1, 0]) \n",
    "df_cm_SVCrobust = pd.DataFrame(cm_SVCrobust, \n",
    "                 columns=['Pred 1', 'Pred 0'],\n",
    "                 index = ['Act 1', 'Act 0'])\n",
    "sns.heatmap(df_cm_SVCrobust, annot=True)"
   ]
  },
  {
   "cell_type": "code",
   "execution_count": 12,
   "metadata": {},
   "outputs": [
    {
     "data": {
      "text/plain": [
       "0.7181463453464786"
      ]
     },
     "execution_count": 12,
     "metadata": {},
     "output_type": "execute_result"
    }
   ],
   "source": [
    "roc_auc_score(y_test_dummy, y_pred_dummy_SVCrobust)"
   ]
  },
  {
   "cell_type": "code",
   "execution_count": 16,
   "metadata": {},
   "outputs": [
    {
     "data": {
      "text/plain": [
       "{'C': 0.9, 'class_weight': None, 'gamma': 1.0}"
      ]
     },
     "execution_count": 16,
     "metadata": {},
     "output_type": "execute_result"
    }
   ],
   "source": [
    "model_dummySVC.best_params_"
   ]
  },
  {
   "cell_type": "code",
   "execution_count": 17,
   "metadata": {},
   "outputs": [
    {
     "data": {
      "text/plain": [
       "0.9111077047564536"
      ]
     },
     "execution_count": 17,
     "metadata": {},
     "output_type": "execute_result"
    }
   ],
   "source": [
    "model_dummySVC.best_score_"
   ]
  },
  {
   "cell_type": "code",
   "execution_count": 38,
   "metadata": {},
   "outputs": [
    {
     "data": {
      "text/plain": [
       "SVC(C=0.9, gamma=1.0, probability=True)"
      ]
     },
     "execution_count": 38,
     "metadata": {},
     "output_type": "execute_result"
    }
   ],
   "source": [
    "scaler_robust = RobustScaler()\n",
    "\n",
    "X_train_robustscaled = scaler_robust.fit_transform(X_train_dummy)\n",
    "\n",
    "X_test_robustscaled = scaler_robust.fit_transform(X_test_dummy)\n",
    "\n",
    "model_dummySVC_auc = SVC(probability = True, C = 0.9, class_weight = None, gamma = 1.0)\n",
    "\n",
    "model_dummySVC_auc.fit(X_train_robustscaled, y_train_dummy)"
   ]
  },
  {
   "cell_type": "code",
   "execution_count": 39,
   "metadata": {},
   "outputs": [
    {
     "data": {
      "image/png": "[encoded data removed]",
      "text/plain": [
       "<Figure size 720x576 with 1 Axes>"
      ]
     },
     "metadata": {
      "needs_background": "light"
     },
     "output_type": "display_data"
    }
   ],
   "source": [
    "probs = model_dummySVC_auc.predict_proba(X_test_robustscaled)\n",
    "\n",
    "preds = probs[:, 1]\n",
    "\n",
    "fpr, tpr, threshold = roc_curve(y_test_dummy, preds)\n",
    "sc = round(auc(fpr,tpr),2)\n",
    "\n",
    "plt.figure(figsize=(10,8))\n",
    "plt.title(\"Receiver Operator Characteristic\")\n",
    "plt.plot(fpr, tpr, 'b', label=f'AUC = {sc} ')\n",
    "\n",
    "plt.plot([0,1], [0,1], 'r-.')\n",
    "\n",
    "plt.ylim([0,1])\n",
    "plt.xlim([0,1])\n",
    "plt.legend(loc=2)\n",
    "plt.ylabel(\"True Positive Rates\")\n",
    "plt.xlabel(\"False Positive Rates\")\n",
    "plt.show()"
   ]
  },
  {
   "cell_type": "code",
   "execution_count": 14,
   "metadata": {},
   "outputs": [
    {
     "name": "stdout",
     "output_type": "stream",
     "text": [
      "Fitting 3 folds for each of 140 candidates, totalling 420 fits\n"
     ]
    },
    {
     "name": "stderr",
     "output_type": "stream",
     "text": [
      "[Parallel(n_jobs=-1)]: Using backend LokyBackend with 8 concurrent workers.\n",
      "[Parallel(n_jobs=-1)]: Done  34 tasks      | elapsed:  2.3min\n",
      "[Parallel(n_jobs=-1)]: Done 184 tasks      | elapsed: 11.7min\n",
      "[Parallel(n_jobs=-1)]: Done 420 out of 420 | elapsed: 27.3min finished\n"
     ]
    },
    {
     "data": {
      "text/plain": [
       "GridSearchCV(cv=3, estimator=SVC(), n_jobs=-1,\n",
       "             param_grid={'C': [0.1, 0.2, 0.3, 0.4, 0.5, 0.6, 0.7, 0.8, 0.9, 1],\n",
       "                         'class_weight': [None, 'balanced'],\n",
       "                         'gamma': array([1.00000000e-04, 2.15443469e-03, 4.64158883e-02, 1.00000000e+00,\n",
       "       2.15443469e+01, 4.64158883e+02, 1.00000000e+04])},\n",
       "             verbose=1)"
      ]
     },
     "execution_count": 14,
     "metadata": {},
     "output_type": "execute_result"
    }
   ],
   "source": [
    "scaler_minmax = MinMaxScaler()\n",
    "\n",
    "X_train_minmaxscaled = scaler_minmax.fit_transform(X_train_dummy)\n",
    "\n",
    "X_test_minmaxscaled = scaler_minmax.fit_transform(X_test_dummy)\n",
    "\n",
    "model_dummySVC2 = SVC()\n",
    "\n",
    "params_dummySVC = {\n",
    "    \"C\" : [0.1, 0.2, 0.3, 0.4, 0.5, 0.6, 0.7, 0.8, 0.9, 1],\n",
    "    \"gamma\" : np.logspace(-4, 4, 7),    \n",
    "    \"class_weight\" : [None, \"balanced\"]\n",
    "}\n",
    "\n",
    "model_dummySVC2 = GridSearchCV(model_dummySVC2, params_dummySVC, cv=3, n_jobs=-1, verbose=1)\n",
    "\n",
    "model_dummySVC2.fit(X_train_minmaxscaled, y_train_dummy)"
   ]
  },
  {
   "cell_type": "code",
   "execution_count": 15,
   "metadata": {},
   "outputs": [
    {
     "name": "stdout",
     "output_type": "stream",
     "text": [
      "              precision    recall  f1-score   support\n",
      "\n",
      "           0       0.95      0.94      0.95      7310\n",
      "           1       0.59      0.64      0.62       928\n",
      "\n",
      "    accuracy                           0.91      8238\n",
      "   macro avg       0.77      0.79      0.78      8238\n",
      "weighted avg       0.91      0.91      0.91      8238\n",
      "\n"
     ]
    }
   ],
   "source": [
    "y_pred_dummy_SVCminmax = model_dummySVC2.predict(X_test_minmaxscaled)\n",
    "\n",
    "print(classification_report(y_test_dummy, y_pred_dummy_SVCminmax))"
   ]
  },
  {
   "cell_type": "code",
   "execution_count": 18,
   "metadata": {},
   "outputs": [
    {
     "data": {
      "text/plain": [
       "<matplotlib.axes._subplots.AxesSubplot at 0x1faa8d068c8>"
      ]
     },
     "execution_count": 18,
     "metadata": {},
     "output_type": "execute_result"
    },
    {
     "data": {
      "image/png": "[encoded data removed]",
      "text/plain": [
       "<Figure size 432x288 with 2 Axes>"
      ]
     },
     "metadata": {
      "needs_background": "light"
     },
     "output_type": "display_data"
    }
   ],
   "source": [
    "cm_SVCminmax = confusion_matrix(y_test_dummy, y_pred_dummy_SVCminmax, labels=[1, 0]) \n",
    "df_cm_SVCminmax = pd.DataFrame(cm_SVCminmax, \n",
    "                 columns=['Pred 1', 'Pred 0'],\n",
    "                 index = ['Act 1', 'Act 0'])\n",
    "sns.heatmap(df_cm_SVCminmax, annot=True)"
   ]
  },
  {
   "cell_type": "code",
   "execution_count": 20,
   "metadata": {},
   "outputs": [
    {
     "data": {
      "text/plain": [
       "0.7942912991178829"
      ]
     },
     "execution_count": 20,
     "metadata": {},
     "output_type": "execute_result"
    }
   ],
   "source": [
    "roc_auc_score(y_test_dummy, y_pred_dummy_SVCminmax)"
   ]
  },
  {
   "cell_type": "code",
   "execution_count": 22,
   "metadata": {},
   "outputs": [
    {
     "data": {
      "text/plain": [
       "{'C': 0.9, 'class_weight': None, 'gamma': 464.1588833612773}"
      ]
     },
     "execution_count": 22,
     "metadata": {},
     "output_type": "execute_result"
    }
   ],
   "source": [
    "model_dummySVC2.best_params_"
   ]
  },
  {
   "cell_type": "code",
   "execution_count": 23,
   "metadata": {},
   "outputs": [
    {
     "data": {
      "text/plain": [
       "0.9119271308898077"
      ]
     },
     "execution_count": 23,
     "metadata": {},
     "output_type": "execute_result"
    }
   ],
   "source": [
    "model_dummySVC2.best_score_"
   ]
  },
  {
   "cell_type": "code",
   "execution_count": 40,
   "metadata": {},
   "outputs": [
    {
     "data": {
      "text/plain": [
       "SVC(C=0.9, gamma=464.1588833612773, probability=True)"
      ]
     },
     "execution_count": 40,
     "metadata": {},
     "output_type": "execute_result"
    }
   ],
   "source": [
    "scaler_minmax = MinMaxScaler()\n",
    "\n",
    "X_train_minmaxscaled = scaler_minmax.fit_transform(X_train_dummy)\n",
    "\n",
    "X_test_minmaxscaled = scaler_minmax.fit_transform(X_test_dummy)\n",
    "\n",
    "model_dummySVC_auc2 = SVC(probability = True, C = 0.9, class_weight = None, gamma = 464.1588833612773)\n",
    "\n",
    "model_dummySVC_auc2.fit(X_train_minmaxscaled, y_train_dummy)"
   ]
  },
  {
   "cell_type": "code",
   "execution_count": 41,
   "metadata": {},
   "outputs": [
    {
     "data": {
      "image/png": "[encoded data removed]",
      "text/plain": [
       "<Figure size 720x576 with 1 Axes>"
      ]
     },
     "metadata": {
      "needs_background": "light"
     },
     "output_type": "display_data"
    }
   ],
   "source": [
    "probs = model_dummySVC_auc2.predict_proba(X_test_minmaxscaled)\n",
    "\n",
    "preds = probs[:, 1]\n",
    "\n",
    "fpr, tpr, threshold = roc_curve(y_test_dummy, preds)\n",
    "sc = round(auc(fpr,tpr),2)\n",
    "\n",
    "plt.figure(figsize=(10,8))\n",
    "plt.title(\"Receiver Operator Characteristic\")\n",
    "plt.plot(fpr, tpr, 'b', label=f'AUC = {sc} ')\n",
    "\n",
    "plt.plot([0,1], [0,1], 'r-.')\n",
    "\n",
    "plt.ylim([0,1])\n",
    "plt.xlim([0,1])\n",
    "plt.legend(loc=2)\n",
    "plt.ylabel(\"True Positive Rates\")\n",
    "plt.xlabel(\"False Positive Rates\")\n",
    "plt.show()"
   ]
  },
  {
   "cell_type": "code",
   "execution_count": 24,
   "metadata": {},
   "outputs": [
    {
     "name": "stdout",
     "output_type": "stream",
     "text": [
      "Fitting 3 folds for each of 140 candidates, totalling 420 fits\n"
     ]
    },
    {
     "name": "stderr",
     "output_type": "stream",
     "text": [
      "[Parallel(n_jobs=-1)]: Using backend LokyBackend with 8 concurrent workers.\n",
      "[Parallel(n_jobs=-1)]: Done  34 tasks      | elapsed:  3.5min\n",
      "[Parallel(n_jobs=-1)]: Done 184 tasks      | elapsed: 22.2min\n",
      "[Parallel(n_jobs=-1)]: Done 420 out of 420 | elapsed: 57.1min finished\n"
     ]
    },
    {
     "data": {
      "text/plain": [
       "GridSearchCV(cv=3, estimator=SVC(), n_jobs=-1,\n",
       "             param_grid={'C': [0.1, 0.2, 0.3, 0.4, 0.5, 0.6, 0.7, 0.8, 0.9, 1],\n",
       "                         'class_weight': [None, 'balanced'],\n",
       "                         'gamma': array([1.00000000e-04, 2.15443469e-03, 4.64158883e-02, 1.00000000e+00,\n",
       "       2.15443469e+01, 4.64158883e+02, 1.00000000e+04])},\n",
       "             verbose=1)"
      ]
     },
     "execution_count": 24,
     "metadata": {},
     "output_type": "execute_result"
    }
   ],
   "source": [
    "scaler_standard = StandardScaler()\n",
    "\n",
    "X_train_standardscaled = scaler_standard.fit_transform(X_train_dummy)\n",
    "\n",
    "X_test_standardscaled = scaler_standard.fit_transform(X_test_dummy)\n",
    "\n",
    "model_dummySVC3 = SVC()\n",
    "\n",
    "params_dummySVC = {\n",
    "    \"C\" : [0.1, 0.2, 0.3, 0.4, 0.5, 0.6, 0.7, 0.8, 0.9, 1],\n",
    "    \"gamma\" : np.logspace(-4, 4, 7),    \n",
    "    \"class_weight\" : [None, \"balanced\"]\n",
    "}\n",
    "\n",
    "model_dummySVC3 = GridSearchCV(model_dummySVC3, params_dummySVC, cv=3, n_jobs=-1, verbose=1)\n",
    "\n",
    "model_dummySVC3.fit(X_train_standardscaled, y_train_dummy)"
   ]
  },
  {
   "cell_type": "code",
   "execution_count": 25,
   "metadata": {},
   "outputs": [
    {
     "name": "stdout",
     "output_type": "stream",
     "text": [
      "              precision    recall  f1-score   support\n",
      "\n",
      "           0       0.94      0.97      0.95      7310\n",
      "           1       0.69      0.47      0.56       928\n",
      "\n",
      "    accuracy                           0.92      8238\n",
      "   macro avg       0.81      0.72      0.76      8238\n",
      "weighted avg       0.91      0.92      0.91      8238\n",
      "\n"
     ]
    }
   ],
   "source": [
    "y_pred_dummy_SVCstandard = model_dummySVC3.predict(X_test_standardscaled)\n",
    "\n",
    "print(classification_report(y_test_dummy, y_pred_dummy_SVCstandard))"
   ]
  },
  {
   "cell_type": "code",
   "execution_count": 26,
   "metadata": {},
   "outputs": [
    {
     "data": {
      "text/plain": [
       "<matplotlib.axes._subplots.AxesSubplot at 0x1faa930d4c8>"
      ]
     },
     "execution_count": 26,
     "metadata": {},
     "output_type": "execute_result"
    },
    {
     "data": {
      "image/png": "[encoded data removed]",
      "text/plain": [
       "<Figure size 432x288 with 2 Axes>"
      ]
     },
     "metadata": {
      "needs_background": "light"
     },
     "output_type": "display_data"
    }
   ],
   "source": [
    "cm_SVCstandard = confusion_matrix(y_test_dummy, y_pred_dummy_SVCstandard, labels=[1, 0]) \n",
    "df_cm_SVCstandard = pd.DataFrame(cm_SVCstandard, \n",
    "                 columns=['Pred 1', 'Pred 0'],\n",
    "                 index = ['Act 1', 'Act 0'])\n",
    "sns.heatmap(df_cm_SVCstandard, annot=True)"
   ]
  },
  {
   "cell_type": "code",
   "execution_count": 27,
   "metadata": {},
   "outputs": [
    {
     "data": {
      "text/plain": [
       "0.7230554802113308"
      ]
     },
     "execution_count": 27,
     "metadata": {},
     "output_type": "execute_result"
    }
   ],
   "source": [
    "roc_auc_score(y_test_dummy, y_pred_dummy_SVCstandard)"
   ]
  },
  {
   "cell_type": "code",
   "execution_count": 29,
   "metadata": {},
   "outputs": [
    {
     "data": {
      "text/plain": [
       "{'C': 0.9, 'class_weight': None, 'gamma': 1.0}"
      ]
     },
     "execution_count": 29,
     "metadata": {},
     "output_type": "execute_result"
    }
   ],
   "source": [
    "model_dummySVC3.best_params_"
   ]
  },
  {
   "cell_type": "code",
   "execution_count": 30,
   "metadata": {},
   "outputs": [
    {
     "data": {
      "text/plain": [
       "0.9128983177493161"
      ]
     },
     "execution_count": 30,
     "metadata": {},
     "output_type": "execute_result"
    }
   ],
   "source": [
    "model_dummySVC3.best_score_"
   ]
  },
  {
   "cell_type": "code",
   "execution_count": 42,
   "metadata": {},
   "outputs": [
    {
     "data": {
      "text/plain": [
       "SVC(C=0.9, gamma=1.0, probability=True)"
      ]
     },
     "execution_count": 42,
     "metadata": {},
     "output_type": "execute_result"
    }
   ],
   "source": [
    "scaler_standard = StandardScaler()\n",
    "\n",
    "X_train_standardscaled = scaler_standard.fit_transform(X_train_dummy)\n",
    "\n",
    "X_test_standardscaled = scaler_standard.fit_transform(X_test_dummy)\n",
    "\n",
    "model_dummySVC_auc3 = SVC(probability = True, C = 0.9, class_weight = None, gamma = 1.0)\n",
    "\n",
    "model_dummySVC_auc3.fit(X_train_standardscaled, y_train_dummy)"
   ]
  },
  {
   "cell_type": "code",
   "execution_count": 43,
   "metadata": {},
   "outputs": [
    {
     "data": {
      "image/png": "[encoded data removed]",
      "text/plain": [
       "<Figure size 720x576 with 1 Axes>"
      ]
     },
     "metadata": {
      "needs_background": "light"
     },
     "output_type": "display_data"
    }
   ],
   "source": [
    "probs = model_dummySVC_auc3.predict_proba(X_test_standardscaled)\n",
    "\n",
    "preds = probs[:, 1]\n",
    "\n",
    "fpr, tpr, threshold = roc_curve(y_test_dummy, preds)\n",
    "sc = round(auc(fpr,tpr),2)\n",
    "\n",
    "plt.figure(figsize=(10,8))\n",
    "plt.title(\"Receiver Operator Characteristic\")\n",
    "plt.plot(fpr, tpr, 'b', label=f'AUC = {sc} ')\n",
    "\n",
    "plt.plot([0,1], [0,1], 'r-.')\n",
    "\n",
    "plt.ylim([0,1])\n",
    "plt.xlim([0,1])\n",
    "plt.legend(loc=2)\n",
    "plt.ylabel(\"True Positive Rates\")\n",
    "plt.xlabel(\"False Positive Rates\")\n",
    "plt.show()"
   ]
  },
  {
   "cell_type": "markdown",
   "metadata": {},
   "source": [
    "## XGBoost (Extreme Gradient Boosting) Classifier"
   ]
  },
  {
   "cell_type": "code",
   "execution_count": 50,
   "metadata": {},
   "outputs": [
    {
     "name": "stdout",
     "output_type": "stream",
     "text": [
      "Fitting 3 folds for each of 500 candidates, totalling 1500 fits\n"
     ]
    },
    {
     "name": "stderr",
     "output_type": "stream",
     "text": [
      "[Parallel(n_jobs=-1)]: Using backend LokyBackend with 8 concurrent workers.\n",
      "[Parallel(n_jobs=-1)]: Done  34 tasks      | elapsed:  1.1min\n",
      "[Parallel(n_jobs=-1)]: Done 184 tasks      | elapsed:  7.8min\n",
      "[Parallel(n_jobs=-1)]: Done 434 tasks      | elapsed: 18.2min\n",
      "[Parallel(n_jobs=-1)]: Done 784 tasks      | elapsed: 31.5min\n",
      "[Parallel(n_jobs=-1)]: Done 1234 tasks      | elapsed: 48.1min\n",
      "[Parallel(n_jobs=-1)]: Done 1500 out of 1500 | elapsed: 67.2min finished\n"
     ]
    },
    {
     "data": {
      "text/plain": [
       "GridSearchCV(cv=3, estimator=XGBClassifier(), n_jobs=-1,\n",
       "             param_grid={'gamma': [0, 0.3, 0.5, 0.7, 1],\n",
       "                         'learning_rate': [0.1, 0.3, 0.5, 0.7, 1],\n",
       "                         'max_depth': [3, 5, 7, 10],\n",
       "                         'n_estimators': [100, 300, 500, 700, 1000]},\n",
       "             verbose=1)"
      ]
     },
     "execution_count": 50,
     "metadata": {},
     "output_type": "execute_result"
    }
   ],
   "source": [
    "scaler_robust = RobustScaler()\n",
    "\n",
    "X_train_robustscaled = scaler_robust.fit_transform(X_train_dummy)\n",
    "\n",
    "X_test_robustscaled = scaler_robust.fit_transform(X_test_dummy)\n",
    "\n",
    "model_dummyXGB = XGBClassifier()\n",
    "\n",
    "params_dummyXGB = {\n",
    "    \"max_depth\" : [3, 5, 7, 10],\n",
    "    \"learning_rate\" : [0.1, 0.3, 0.5, 0.7, 1],    \n",
    "    \"n_estimators\" : [100, 300, 500, 700, 1000],\n",
    "    \"gamma\" : [0, 0.3, 0.5, 0.7, 1],\n",
    "}\n",
    "\n",
    "model_dummyXGB = GridSearchCV(model_dummyXGB, params_dummyXGB, cv=3, n_jobs=-1, verbose=1)\n",
    "\n",
    "model_dummyXGB.fit(X_train_robustscaled, y_train_dummy)"
   ]
  },
  {
   "cell_type": "code",
   "execution_count": 51,
   "metadata": {},
   "outputs": [
    {
     "name": "stdout",
     "output_type": "stream",
     "text": [
      "              precision    recall  f1-score   support\n",
      "\n",
      "           0       0.94      0.97      0.96      7310\n",
      "           1       0.71      0.53      0.61       928\n",
      "\n",
      "    accuracy                           0.92      8238\n",
      "   macro avg       0.82      0.75      0.78      8238\n",
      "weighted avg       0.92      0.92      0.92      8238\n",
      "\n"
     ]
    }
   ],
   "source": [
    "y_pred_dummy_XGBrobust = model_dummyXGB.predict(X_test_robustscaled)\n",
    "\n",
    "print(classification_report(y_test_dummy, y_pred_dummy_XGBrobust))"
   ]
  },
  {
   "cell_type": "code",
   "execution_count": 52,
   "metadata": {},
   "outputs": [
    {
     "data": {
      "text/plain": [
       "<matplotlib.axes._subplots.AxesSubplot at 0x1faa92b3c88>"
      ]
     },
     "execution_count": 52,
     "metadata": {},
     "output_type": "execute_result"
    },
    {
     "data": {
      "image/png": "[encoded data removed]",
      "text/plain": [
       "<Figure size 432x288 with 2 Axes>"
      ]
     },
     "metadata": {
      "needs_background": "light"
     },
     "output_type": "display_data"
    }
   ],
   "source": [
    "cm_XGBrobust = confusion_matrix(y_test_dummy, y_pred_dummy_XGBrobust, labels=[1, 0]) \n",
    "df_cm_XGBrobust = pd.DataFrame(cm_XGBrobust, \n",
    "                 columns=['Pred 1', 'Pred 0'],\n",
    "                 index = ['Act 1', 'Act 0'])\n",
    "sns.heatmap(df_cm_XGBrobust, annot=True)"
   ]
  },
  {
   "cell_type": "code",
   "execution_count": 53,
   "metadata": {},
   "outputs": [
    {
     "data": {
      "text/plain": [
       "0.753151092032643"
      ]
     },
     "execution_count": 53,
     "metadata": {},
     "output_type": "execute_result"
    }
   ],
   "source": [
    "roc_auc_score(y_test_dummy, y_pred_dummy_XGBrobust)"
   ]
  },
  {
   "cell_type": "code",
   "execution_count": 54,
   "metadata": {},
   "outputs": [
    {
     "data": {
      "image/png": "[encoded data removed]",
      "text/plain": [
       "<Figure size 720x576 with 1 Axes>"
      ]
     },
     "metadata": {
      "needs_background": "light"
     },
     "output_type": "display_data"
    }
   ],
   "source": [
    "probs = model_dummyXGB.predict_proba(X_test_robustscaled)\n",
    "\n",
    "preds = probs[:, 1]\n",
    "\n",
    "fpr, tpr, threshold = roc_curve(y_test_dummy, preds)\n",
    "sc = round(auc(fpr,tpr),2)\n",
    "\n",
    "plt.figure(figsize=(10,8))\n",
    "plt.title(\"Receiver Operator Characteristic\")\n",
    "plt.plot(fpr, tpr, 'b', label=f'AUC = {sc} ')\n",
    "\n",
    "plt.plot([0,1], [0,1], 'r-.')\n",
    "\n",
    "plt.ylim([0,1])\n",
    "plt.xlim([0,1])\n",
    "plt.legend(loc=2)\n",
    "plt.ylabel(\"True Positive Rates\")\n",
    "plt.xlabel(\"False Positive Rates\")\n",
    "plt.show()"
   ]
  },
  {
   "cell_type": "code",
   "execution_count": 55,
   "metadata": {},
   "outputs": [
    {
     "data": {
      "text/plain": [
       "{'gamma': 0.3, 'learning_rate': 0.1, 'max_depth': 3, 'n_estimators': 300}"
      ]
     },
     "execution_count": 55,
     "metadata": {},
     "output_type": "execute_result"
    }
   ],
   "source": [
    "model_dummyXGB.best_params_"
   ]
  },
  {
   "cell_type": "code",
   "execution_count": 56,
   "metadata": {},
   "outputs": [
    {
     "data": {
      "text/plain": [
       "0.9154779212845595"
      ]
     },
     "execution_count": 56,
     "metadata": {},
     "output_type": "execute_result"
    }
   ],
   "source": [
    "model_dummyXGB.best_score_"
   ]
  },
  {
   "cell_type": "code",
   "execution_count": 69,
   "metadata": {},
   "outputs": [
    {
     "name": "stdout",
     "output_type": "stream",
     "text": [
      "Fitting 3 folds for each of 500 candidates, totalling 1500 fits\n"
     ]
    },
    {
     "name": "stderr",
     "output_type": "stream",
     "text": [
      "[Parallel(n_jobs=-1)]: Using backend LokyBackend with 8 concurrent workers.\n",
      "[Parallel(n_jobs=-1)]: Done  34 tasks      | elapsed:   38.6s\n",
      "[Parallel(n_jobs=-1)]: Done 184 tasks      | elapsed:  4.8min\n",
      "[Parallel(n_jobs=-1)]: Done 434 tasks      | elapsed: 11.5min\n",
      "[Parallel(n_jobs=-1)]: Done 784 tasks      | elapsed: 20.3min\n",
      "[Parallel(n_jobs=-1)]: Done 1234 tasks      | elapsed: 53.8min\n",
      "[Parallel(n_jobs=-1)]: Done 1500 out of 1500 | elapsed: 62.6min finished\n"
     ]
    },
    {
     "data": {
      "text/plain": [
       "GridSearchCV(cv=3, estimator=XGBClassifier(), n_jobs=-1,\n",
       "             param_grid={'gamma': [0, 0.3, 0.5, 0.7, 1],\n",
       "                         'learning_rate': [0.1, 0.3, 0.5, 0.7, 1],\n",
       "                         'max_depth': [3, 5, 7, 10],\n",
       "                         'n_estimators': [100, 300, 500, 700, 1000]},\n",
       "             verbose=1)"
      ]
     },
     "execution_count": 69,
     "metadata": {},
     "output_type": "execute_result"
    }
   ],
   "source": [
    "scaler_minmax = MinMaxScaler()\n",
    "\n",
    "X_train_minmaxscaled = scaler_minmax.fit_transform(X_train_dummy)\n",
    "\n",
    "X_test_minmaxscaled = scaler_minmax.fit_transform(X_test_dummy)\n",
    "\n",
    "model_dummyXGB2 = XGBClassifier()\n",
    "\n",
    "params_dummyXGB = {\n",
    "    \"max_depth\" : [3, 5, 7, 10],\n",
    "    \"learning_rate\" : [0.1, 0.3, 0.5, 0.7, 1],    \n",
    "    \"n_estimators\" : [100, 300, 500, 700, 1000],\n",
    "    \"gamma\" : [0, 0.3, 0.5, 0.7, 1],\n",
    "}\n",
    "\n",
    "model_dummyXGB2 = GridSearchCV(model_dummyXGB2, params_dummyXGB, cv=3, n_jobs=-1, verbose=1)\n",
    "\n",
    "model_dummyXGB2.fit(X_train_minmaxscaled, y_train_dummy)"
   ]
  },
  {
   "cell_type": "code",
   "execution_count": 70,
   "metadata": {},
   "outputs": [
    {
     "name": "stdout",
     "output_type": "stream",
     "text": [
      "              precision    recall  f1-score   support\n",
      "\n",
      "           0       0.95      0.94      0.95      7310\n",
      "           1       0.57      0.62      0.59       928\n",
      "\n",
      "    accuracy                           0.90      8238\n",
      "   macro avg       0.76      0.78      0.77      8238\n",
      "weighted avg       0.91      0.90      0.91      8238\n",
      "\n"
     ]
    }
   ],
   "source": [
    "y_pred_dummy_XGBminmax = model_dummyXGB2.predict(X_test_minmaxscaled)\n",
    "\n",
    "print(classification_report(y_test_dummy, y_pred_dummy_XGBminmax))"
   ]
  },
  {
   "cell_type": "code",
   "execution_count": 71,
   "metadata": {},
   "outputs": [
    {
     "data": {
      "text/plain": [
       "<matplotlib.axes._subplots.AxesSubplot at 0x1faaa5034c8>"
      ]
     },
     "execution_count": 71,
     "metadata": {},
     "output_type": "execute_result"
    },
    {
     "data": {
      "image/png": "[encoded data removed]",
      "text/plain": [
       "<Figure size 432x288 with 2 Axes>"
      ]
     },
     "metadata": {
      "needs_background": "light"
     },
     "output_type": "display_data"
    }
   ],
   "source": [
    "cm_XGBminmax = confusion_matrix(y_test_dummy, y_pred_dummy_XGBminmax, labels=[1, 0]) \n",
    "df_cm_XGBminmax = pd.DataFrame(cm_XGBminmax, \n",
    "                 columns=['Pred 1', 'Pred 0'],\n",
    "                 index = ['Act 1', 'Act 0'])\n",
    "sns.heatmap(df_cm_XGBminmax, annot=True)"
   ]
  },
  {
   "cell_type": "code",
   "execution_count": 72,
   "metadata": {},
   "outputs": [
    {
     "data": {
      "text/plain": [
       "0.7789830888249446"
      ]
     },
     "execution_count": 72,
     "metadata": {},
     "output_type": "execute_result"
    }
   ],
   "source": [
    "roc_auc_score(y_test_dummy, y_pred_dummy_XGBminmax)"
   ]
  },
  {
   "cell_type": "code",
   "execution_count": 73,
   "metadata": {},
   "outputs": [
    {
     "data": {
      "image/png": "[encoded data removed]",
      "text/plain": [
       "<Figure size 720x576 with 1 Axes>"
      ]
     },
     "metadata": {
      "needs_background": "light"
     },
     "output_type": "display_data"
    }
   ],
   "source": [
    "probs = model_dummyXGB2.predict_proba(X_test_minmaxscaled)\n",
    "\n",
    "preds = probs[:, 1]\n",
    "\n",
    "fpr, tpr, threshold = roc_curve(y_test_dummy, preds)\n",
    "sc = round(auc(fpr,tpr),2)\n",
    "\n",
    "plt.figure(figsize=(10,8))\n",
    "plt.title(\"Receiver Operator Characteristic\")\n",
    "plt.plot(fpr, tpr, 'b', label=f'AUC = {sc} ')\n",
    "\n",
    "plt.plot([0,1], [0,1], 'r-.')\n",
    "\n",
    "plt.ylim([0,1])\n",
    "plt.xlim([0,1])\n",
    "plt.legend(loc=2)\n",
    "plt.ylabel(\"True Positive Rates\")\n",
    "plt.xlabel(\"False Positive Rates\")\n",
    "plt.show()"
   ]
  },
  {
   "cell_type": "code",
   "execution_count": 74,
   "metadata": {},
   "outputs": [
    {
     "data": {
      "text/plain": [
       "{'gamma': 0.3, 'learning_rate': 0.1, 'max_depth': 3, 'n_estimators': 300}"
      ]
     },
     "execution_count": 74,
     "metadata": {},
     "output_type": "execute_result"
    }
   ],
   "source": [
    "model_dummyXGB2.best_params_"
   ]
  },
  {
   "cell_type": "code",
   "execution_count": 75,
   "metadata": {},
   "outputs": [
    {
     "data": {
      "text/plain": [
       "0.9154172214150642"
      ]
     },
     "execution_count": 75,
     "metadata": {},
     "output_type": "execute_result"
    }
   ],
   "source": [
    "model_dummyXGB2.best_score_"
   ]
  },
  {
   "cell_type": "code",
   "execution_count": 44,
   "metadata": {},
   "outputs": [
    {
     "name": "stdout",
     "output_type": "stream",
     "text": [
      "Fitting 3 folds for each of 500 candidates, totalling 1500 fits\n"
     ]
    },
    {
     "name": "stderr",
     "output_type": "stream",
     "text": [
      "[Parallel(n_jobs=-1)]: Using backend LokyBackend with 8 concurrent workers.\n",
      "[Parallel(n_jobs=-1)]: Done  34 tasks      | elapsed:   40.1s\n",
      "[Parallel(n_jobs=-1)]: Done 184 tasks      | elapsed:  9.5min\n",
      "[Parallel(n_jobs=-1)]: Done 434 tasks      | elapsed: 27.1min\n",
      "[Parallel(n_jobs=-1)]: Done 784 tasks      | elapsed: 39.9min\n",
      "[Parallel(n_jobs=-1)]: Done 1234 tasks      | elapsed: 56.1min\n",
      "[Parallel(n_jobs=-1)]: Done 1500 out of 1500 | elapsed: 64.0min finished\n"
     ]
    },
    {
     "data": {
      "text/plain": [
       "GridSearchCV(cv=3, estimator=XGBClassifier(), n_jobs=-1,\n",
       "             param_grid={'gamma': [0, 0.3, 0.5, 0.7, 1],\n",
       "                         'learning_rate': [0.1, 0.3, 0.5, 0.7, 1],\n",
       "                         'max_depth': [3, 5, 7, 10],\n",
       "                         'n_estimators': [100, 300, 500, 700, 1000]},\n",
       "             verbose=1)"
      ]
     },
     "execution_count": 44,
     "metadata": {},
     "output_type": "execute_result"
    }
   ],
   "source": [
    "scaler_standard = StandardScaler()\n",
    "\n",
    "X_train_standardscaled = scaler_standard.fit_transform(X_train_dummy)\n",
    "\n",
    "X_test_standardscaled = scaler_standard.fit_transform(X_test_dummy)\n",
    "\n",
    "model_dummyXGB3 = XGBClassifier()\n",
    "\n",
    "params_dummyXGB = {\n",
    "    \"max_depth\" : [3, 5, 7, 10],\n",
    "    \"learning_rate\" : [0.1, 0.3, 0.5, 0.7, 1],    \n",
    "    \"n_estimators\" : [100, 300, 500, 700, 1000],\n",
    "    \"gamma\" : [0, 0.3, 0.5, 0.7, 1],\n",
    "}\n",
    "\n",
    "model_dummyXGB3 = GridSearchCV(model_dummyXGB3, params_dummyXGB, cv=3, n_jobs=-1, verbose=1)\n",
    "\n",
    "model_dummyXGB3.fit(X_train_standardscaled, y_train_dummy)"
   ]
  },
  {
   "cell_type": "code",
   "execution_count": 45,
   "metadata": {},
   "outputs": [
    {
     "name": "stdout",
     "output_type": "stream",
     "text": [
      "              precision    recall  f1-score   support\n",
      "\n",
      "           0       0.94      0.96      0.95      7310\n",
      "           1       0.64      0.52      0.58       928\n",
      "\n",
      "    accuracy                           0.91      8238\n",
      "   macro avg       0.79      0.74      0.76      8238\n",
      "weighted avg       0.91      0.91      0.91      8238\n",
      "\n"
     ]
    }
   ],
   "source": [
    "y_pred_dummy_XGBstandard = model_dummyXGB3.predict(X_test_standardscaled)\n",
    "\n",
    "print(classification_report(y_test_dummy, y_pred_dummy_XGBstandard))"
   ]
  },
  {
   "cell_type": "code",
   "execution_count": 46,
   "metadata": {},
   "outputs": [
    {
     "data": {
      "text/plain": [
       "<matplotlib.axes._subplots.AxesSubplot at 0x29395dacdc8>"
      ]
     },
     "execution_count": 46,
     "metadata": {},
     "output_type": "execute_result"
    },
    {
     "data": {
      "image/png": "[encoded data removed]",
      "text/plain": [
       "<Figure size 432x288 with 2 Axes>"
      ]
     },
     "metadata": {
      "needs_background": "light"
     },
     "output_type": "display_data"
    }
   ],
   "source": [
    "cm_XGBstandard = confusion_matrix(y_test_dummy, y_pred_dummy_XGBstandard, labels=[1, 0]) \n",
    "df_cm_XGBstandard = pd.DataFrame(cm_XGBstandard, \n",
    "                 columns=['Pred 1', 'Pred 0'],\n",
    "                 index = ['Act 1', 'Act 0'])\n",
    "sns.heatmap(df_cm_XGBstandard, annot=True)"
   ]
  },
  {
   "cell_type": "code",
   "execution_count": 47,
   "metadata": {},
   "outputs": [
    {
     "data": {
      "text/plain": [
       "0.7439243891221283"
      ]
     },
     "execution_count": 47,
     "metadata": {},
     "output_type": "execute_result"
    }
   ],
   "source": [
    "roc_auc_score(y_test_dummy, y_pred_dummy_XGBstandard)"
   ]
  },
  {
   "cell_type": "code",
   "execution_count": 48,
   "metadata": {},
   "outputs": [
    {
     "data": {
      "image/png": "[encoded data removed]",
      "text/plain": [
       "<Figure size 720x576 with 1 Axes>"
      ]
     },
     "metadata": {
      "needs_background": "light"
     },
     "output_type": "display_data"
    }
   ],
   "source": [
    "probs = model_dummyXGB3.predict_proba(X_test_standardscaled)\n",
    "\n",
    "preds = probs[:, 1]\n",
    "\n",
    "fpr, tpr, threshold = roc_curve(y_test_dummy, preds)\n",
    "sc = round(auc(fpr,tpr),2)\n",
    "\n",
    "plt.figure(figsize=(10,8))\n",
    "plt.title(\"Receiver Operator Characteristic\")\n",
    "plt.plot(fpr, tpr, 'b', label=f'AUC = {sc} ')\n",
    "\n",
    "plt.plot([0,1], [0,1], 'r-.')\n",
    "\n",
    "plt.ylim([0,1])\n",
    "plt.xlim([0,1])\n",
    "plt.legend(loc=2)\n",
    "plt.ylabel(\"True Positive Rates\")\n",
    "plt.xlabel(\"False Positive Rates\")\n",
    "plt.show()"
   ]
  },
  {
   "cell_type": "code",
   "execution_count": 49,
   "metadata": {},
   "outputs": [
    {
     "data": {
      "text/plain": [
       "{'gamma': 0.3, 'learning_rate': 0.1, 'max_depth': 3, 'n_estimators': 300}"
      ]
     },
     "execution_count": 49,
     "metadata": {},
     "output_type": "execute_result"
    }
   ],
   "source": [
    "model_dummyXGB3.best_params_"
   ]
  },
  {
   "cell_type": "code",
   "execution_count": 50,
   "metadata": {},
   "outputs": [
    {
     "data": {
      "text/plain": [
       "0.9154475713498119"
      ]
     },
     "execution_count": 50,
     "metadata": {},
     "output_type": "execute_result"
    }
   ],
   "source": [
    "model_dummyXGB3.best_score_"
   ]
  },
  {
   "cell_type": "code",
   "execution_count": null,
   "metadata": {},
   "outputs": [],
   "source": []
  }
 ],
 "metadata": {
  "kernelspec": {
   "display_name": "Python 3",
   "language": "python",
   "name": "python3"
  },
  "language_info": {
   "codemirror_mode": {
    "name": "ipython",
    "version": 3
   },
   "file_extension": ".py",
   "mimetype": "text/x-python",
   "name": "python",
   "nbconvert_exporter": "python",
   "pygments_lexer": "ipython3",
   "version": "3.7.7"
  }
 },
 "nbformat": 4,
 "nbformat_minor": 4
}
